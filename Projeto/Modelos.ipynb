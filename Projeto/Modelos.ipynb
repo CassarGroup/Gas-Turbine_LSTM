{
 "cells": [
  {
   "cell_type": "markdown",
   "metadata": {},
   "source": [
    "# Projeto de Férias - Aprendizado de Máquina\n",
    "-----------------------"
   ]
  },
  {
   "cell_type": "markdown",
   "metadata": {},
   "source": [
    "# Predição de emissão de gases em um dataset sobre turbinas \n",
    "\n",
    "**Aluno:** Enzo J. Xavier - RM 24035\n",
    "\n",
    "**Orientador:** Dr. Daniel Roberto Cassar"
   ]
  },
  {
   "cell_type": "markdown",
   "metadata": {},
   "source": [
    "## Introdução:"
   ]
  },
  {
   "cell_type": "markdown",
   "metadata": {},
   "source": [
    "Relembrar: Explicar notebook anterior, referenciar link \n",
    "\n",
    "Explicar: Falar objetivo do notebook atual, passo a passo\n",
    "\n",
    "Modelar: Abordar os modelos usados, teoria e fórmula"
   ]
  },
  {
   "cell_type": "markdown",
   "metadata": {},
   "source": [
    "## Importações e definições:"
   ]
  },
  {
   "cell_type": "markdown",
   "metadata": {},
   "source": [
    "Importando as principais bibliotecas usadas neste notebok. A documentação de cada biblioteca se encontra no final do arquivo, na sessão \"Referências\""
   ]
  },
  {
   "cell_type": "code",
   "execution_count": 41,
   "metadata": {},
   "outputs": [],
   "source": [
    "import os\n",
    "import numpy as np\n",
    "import math\n",
    "from sklearn.preprocessing import StandardScaler\n",
    "\n",
    "import pandas as pd\n",
    "import seaborn as sns\n",
    "import matplotlib.pyplot as plt\n",
    "import matplotlib.dates as mdates\n",
    "\n",
    "import plotly.express as px\n",
    "import plotly.graph_objects as go\n",
    "from plotly.subplots import make_subplots\n",
    "\n",
    "from statsmodels.tsa.seasonal import seasonal_decompose\n",
    "import statsmodels.api as sm\n",
    "from statsmodels.tsa.holtwinters import ExponentialSmoothing\n",
    "\n",
    "import torch\n",
    "import torch.nn as nn\n",
    "import darts\n",
    "import skorch"
   ]
  },
  {
   "cell_type": "markdown",
   "metadata": {},
   "source": [
    "Carregando os datasets, que se encontram em uma pasta específica, e criando uma variável intuitiva para cada ano, facilitando a visualização. Para mudar de diretório foram usados métodos da biblioteca $os$"
   ]
  },
  {
   "cell_type": "code",
   "execution_count": 2,
   "metadata": {},
   "outputs": [],
   "source": [
    "atual = os.getcwd()\n",
    "caminho = os.path.dirname(atual)\n",
    "os.chdir(f'{caminho}\\\\Datasets')"
   ]
  },
  {
   "cell_type": "code",
   "execution_count": 12,
   "metadata": {},
   "outputs": [],
   "source": [
    "df_2011 = pd.read_csv('gt_2011.csv', parse_dates = True)\n",
    "df_2012 = pd.read_csv('gt_2012.csv', parse_dates = True)\n",
    "df_2013 = pd.read_csv('gt_2013.csv', parse_dates = True)\n",
    "df_2014 = pd.read_csv('gt_2014.csv', parse_dates = True)\n",
    "df_2015 = pd.read_csv('gt_2015.csv', parse_dates = True)"
   ]
  },
  {
   "cell_type": "code",
   "execution_count": 15,
   "metadata": {},
   "outputs": [],
   "source": [
    "# Dados de treino:\n",
    "df_treino = pd.concat([df_2011,df_2012], ignore_index= True)\n",
    "\n",
    "# Dados de teste:\n",
    "df_teste = pd.concat([df_2014,df_2015], ignore_index= True)\n",
    "\n",
    "# Dataset completo:\n",
    "df_tot = pd.concat([df_2011,df_2012,df_2013,df_2014,df_2015], ignore_index = True)"
   ]
  },
  {
   "cell_type": "code",
   "execution_count": 28,
   "metadata": {},
   "outputs": [
    {
     "data": {
      "text/plain": [
       "\"df_2011['Data'] = df_2011.index\\ndf_2011 = df_2011.set_index(['Data'])\\n\\ndf_2012['Data'] = df_2012.index\\ndf_2012 = df_2012.set_index(['Data'])\\n\\ndf_2013['Data'] = df_2013.index\\ndf_2013 = df_2013.set_index(['Data'])\\n\\ndf_2014['Data'] = df_2014.index\\ndf_2014 = df_2014.set_index(['Data'])\\n\\ndf_2015['Data'] = df_2015.index\\ndf_2015 = df_2015.set_index(['Data'])\\n\\ndf_treino['Data'] = df_treino.index\\ndf_treino = df_treino.set_index(['Data'])\\n\\ndf_teste['Data'] = df_teste.index\\ndf_teste = df_teste.set_index(['Data'])\\n\\ndf_tot['Data'] = df_tot.index\\ndf_tot = df_tot.set_index(['Data'])\""
      ]
     },
     "execution_count": 28,
     "metadata": {},
     "output_type": "execute_result"
    }
   ],
   "source": [
    "# Analisar, ver se vale a pena\n",
    "'''df_2011['Data'] = df_2011.index\n",
    "df_2011 = df_2011.set_index(['Data'])\n",
    "\n",
    "df_2012['Data'] = df_2012.index\n",
    "df_2012 = df_2012.set_index(['Data'])\n",
    "\n",
    "df_2013['Data'] = df_2013.index\n",
    "df_2013 = df_2013.set_index(['Data'])\n",
    "\n",
    "df_2014['Data'] = df_2014.index\n",
    "df_2014 = df_2014.set_index(['Data'])\n",
    "\n",
    "df_2015['Data'] = df_2015.index\n",
    "df_2015 = df_2015.set_index(['Data'])\n",
    "\n",
    "df_treino['Data'] = df_treino.index\n",
    "df_treino = df_treino.set_index(['Data'])\n",
    "\n",
    "df_teste['Data'] = df_teste.index\n",
    "df_teste = df_teste.set_index(['Data'])\n",
    "\n",
    "df_tot['Data'] = df_tot.index\n",
    "df_tot = df_tot.set_index(['Data'])'''"
   ]
  },
  {
   "cell_type": "code",
   "execution_count": 29,
   "metadata": {},
   "outputs": [],
   "source": [
    "df_2011['Data'] = df_2011.index\n",
    "df_2012['Data'] = df_2012.index\n",
    "df_2013['Data'] = df_2013.index\n",
    "df_2014['Data'] = df_2014.index\n",
    "df_2015['Data'] = df_2015.index\n",
    "\n",
    "df_treino['Data'] = df_treino.index\n",
    "df_teste['Data'] = df_teste.index\n",
    "df_tot['Data'] = df_tot.index"
   ]
  },
  {
   "cell_type": "code",
   "execution_count": 61,
   "metadata": {},
   "outputs": [],
   "source": [
    "ATRIBUTOS = ['AT','AP','AH','AFDP','GTEP','TIT','TAT','TEY','CDP',]\n",
    "TARGET = ['CO', 'NOX']\n",
    "\n",
    "X_treino = df_treino.reindex(ATRIBUTOS, axis=1).values\n",
    "y_treino = df_treino.reindex(TARGET, axis=1).values.ravel()\n",
    "\n",
    "modelo = StandardScaler()\n",
    "X_treino_norm = modelo.fit_transform(X_treino)"
   ]
  },
  {
   "cell_type": "markdown",
   "metadata": {},
   "source": [
    "### Darts:"
   ]
  },
  {
   "cell_type": "markdown",
   "metadata": {},
   "source": []
  },
  {
   "cell_type": "code",
   "execution_count": null,
   "metadata": {},
   "outputs": [],
   "source": []
  },
  {
   "cell_type": "markdown",
   "metadata": {},
   "source": [
    "### Skorch"
   ]
  },
  {
   "cell_type": "code",
   "execution_count": null,
   "metadata": {},
   "outputs": [],
   "source": []
  },
  {
   "cell_type": "markdown",
   "metadata": {},
   "source": [
    "### Pytorch"
   ]
  },
  {
   "cell_type": "code",
   "execution_count": null,
   "metadata": {},
   "outputs": [],
   "source": []
  },
  {
   "cell_type": "markdown",
   "metadata": {},
   "source": [
    "### Conclusão"
   ]
  },
  {
   "cell_type": "markdown",
   "metadata": {},
   "source": []
  },
  {
   "cell_type": "markdown",
   "metadata": {},
   "source": [
    "### Referências"
   ]
  },
  {
   "cell_type": "markdown",
   "metadata": {},
   "source": [
    "[1]\n",
    "\n",
    "[2]\n",
    "\n",
    "[3]\n",
    "\n",
    "[4]\n",
    "\n",
    "[] Biblioteca do normalizador padrão - scikit learn: https://scikit-learn.org/stable/modules/generated/sklearn.preprocessing.StandardScaler.html\n",
    "\n",
    "[] David Menotti, aula sobre MLP: https://www.inf.ufpr.br/menotti/ci171-182/slides/ci171-classMLP.pdf"
   ]
  }
 ],
 "metadata": {
  "kernelspec": {
   "display_name": "ilumpy",
   "language": "python",
   "name": "ilumpy"
  },
  "language_info": {
   "codemirror_mode": {
    "name": "ipython",
    "version": 3
   },
   "file_extension": ".py",
   "mimetype": "text/x-python",
   "name": "python",
   "nbconvert_exporter": "python",
   "pygments_lexer": "ipython3",
   "version": "3.11.6"
  }
 },
 "nbformat": 4,
 "nbformat_minor": 2
}
