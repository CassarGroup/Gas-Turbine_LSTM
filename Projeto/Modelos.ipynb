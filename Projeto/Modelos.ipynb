{
 "cells": [
  {
   "cell_type": "markdown",
   "metadata": {},
   "source": [
    "# Projeto de Férias - Aprendizado de Máquina\n",
    "-----------------------"
   ]
  },
  {
   "cell_type": "markdown",
   "metadata": {},
   "source": [
    "# Predição de emissão de gases em um dataset sobre turbinas \n",
    "\n",
    "**Aluno:** Enzo J. Xavier - RM 24035\n",
    "\n",
    "**Orientador:** Dr. Daniel Roberto Cassar"
   ]
  },
  {
   "cell_type": "markdown",
   "metadata": {},
   "source": [
    "## Introdução:"
   ]
  },
  {
   "cell_type": "markdown",
   "metadata": {},
   "source": [
    "Após todo o procedimento de pré-processamento dos dados, retirados de uma turbina à gás [1] e discutido no arquivo anterior [Introdução](https://github.com/CassarGroup/Enzo-Januzzi---Redes-Neurais/blob/main/Projeto/Introdução.ipynb), chegou a etapa de desenvolver e treinar um modelo de Aprendizado de Máquina para prever de fato essas emissões. Escolheu-se um modelo de Redes Neurais Recorrentes (RNN, *Recurrent Neural Network* em inglês) do tipo LSTM (*Long-Short Term Memory*, ou Memória de Curto e Longo Prazo), cuja arquitetura permite classificar, processar e prever séries temporais [2]. A fim de entender melhor esse algoritmo, será explicado um modelo base, mais simples e com parâmetros parecidos - as Redes Neurais, mais especificamente um Perceptron Multicamadas(MLP, *Multilayer Perceptron* do inglês)."
   ]
  },
  {
   "cell_type": "markdown",
   "metadata": {},
   "source": [
    "### MLP:"
   ]
  },
  {
   "cell_type": "markdown",
   "metadata": {},
   "source": [
    "Uma MLP simula uma rede neural humana por ser dividida em 3 tipos (camada de entrada, camada oculta e camada de sáida), as quais são conectadas por sinapes e a informação passa por cada unidade, chamada de \"neurônio\". A transmissão dos dados considera 2 parâmetros próprios de cada neurônio: o **peso** (*weight*, em tradução livre), que representa a relevância da informação, e o **viés** (em inglês *bias*), sendo um valor intrínseco indicativo se os dados serão passados adiante na rede."
   ]
  },
  {
   "cell_type": "markdown",
   "metadata": {},
   "source": [
    "![](https://ars.els-cdn.com/content/image/1-s2.0-S2590005622000339-gr1_lrg.jpg)"
   ]
  },
  {
   "cell_type": "markdown",
   "metadata": {},
   "source": [
    "**Figura 1:** Esquema de uma MLP simples, com 3 camadas totais. Os números ilustram a posição dos neurônios, sendo que o termo $\\omega$ indica o peso passado para as camadas seguintes e o termo $\\beta$ representa o viés adicionado à cada neurônio. Imagem de M.G. Rojas *et al* [3]."
   ]
  },
  {
   "cell_type": "markdown",
   "metadata": {},
   "source": [
    "Esse modelo também possui uma **função de ativação**, responsável por modificar o resultado das operações matemáticas aplicadas aos dados, garantindo uma padronização dos valores de saída, ou outputs. Dentre as funções usadas estão a sigmoide ($\\sigma$), a qual converte os resultados em um intervalo entre 0 e 1, e a tangente hiperpólica (tanh), cujo intervalo varia entre -1 e 1. Abaixo estão as principais fórmulas por trás do algoritmo:"
   ]
  },
  {
   "cell_type": "markdown",
   "metadata": {},
   "source": [
    "$$\\sigma(x) = \\frac{1}{1 + e^{-x}} \\tag{1}$$ \n",
    "\n",
    "$$tanh(x) = \\frac{e^x - e^{-x}}{e^x + e^{-x}} \\tag{2}$$ \n",
    "\n",
    "$$y = f((\\sum_{i=1}^{n} w_i \\cdot x_i) + b) \\tag{3}$$"
   ]
  },
  {
   "cell_type": "markdown",
   "metadata": {},
   "source": [
    "Em que $e$ é o número de Euler, $w_i$ é o peso na posição *i*, $x_i$ é o input na posição *i*, $b$ é o viés somado e $y$ é o output passado à próxima camada ou o dado de saída."
   ]
  },
  {
   "cell_type": "markdown",
   "metadata": {},
   "source": [
    "Ao fornecer os atributos do problema como os dados de entrada, o modelo aleatoriza o valor de todos os seus parâmetros (i.e, $w$ e $b$), calculando um valor de saída que deve ser aproximado ao valor real predito (target). O output final do modelo chama-se **função perda**, o qual mede a ácurácia do algoritmo e deve ser minimizado, indicando estar próximo da previsão. Para isso, ele usa a **backpropagation** (retro-propagação, em português), que consiste em calcular os gradientes da função perda com respeito à cada parâmetro do sistema, cujo passo a passo (ou **step**) envolve mudar ligeiramente os pesos e viéses e recalcular o output, visando reduzir seu valor."
   ]
  },
  {
   "cell_type": "markdown",
   "metadata": {},
   "source": [
    "A introdução teórica teve como base o excelente vídeo de Andrej Karpathy, que ensina os fundamentos de uma rede neural criando do zero a biblioteca *Micrograd*. [4]"
   ]
  },
  {
   "cell_type": "markdown",
   "metadata": {},
   "source": [
    "### RNN:"
   ]
  },
  {
   "cell_type": "markdown",
   "metadata": {},
   "source": [
    "A vantagem das redes recorrentes em relação à rede anterior é que elas permitem lidar com dados dependentes do tempo, cuja ordem dos exemplos importa na implementação do modelo. Em linhas gerais, a mudança consiste em \"desenrolar\" a rede neural duplicando a arquitetura para o número de exemplos dados, sendo que o peso de um dado no instante $t$ é passado como informação em conjunto com o dado sequencial em $t + 1$."
   ]
  },
  {
   "cell_type": "markdown",
   "metadata": {},
   "source": [
    "![](https://www.researchgate.net/profile/Rishikesh-Gawde/publication/351840108/figure/fig1/AS:1027303769374723@1621939713840/Fig-3-RNN-A-recurrent-neural-network-RNN-is-a-class-of-artificial-neural-networks.ppm)"
   ]
  },
  {
   "cell_type": "markdown",
   "metadata": {},
   "source": [
    "**Figura 2:** RNN Uma rede neuronal recorrente (RNN) é uma classe de redes neuronais artificiais em que as ligações entre os nós formam um grafo dirigido ao longo de uma sequência temporal. Isto permite-lhe apresentar um comportamento dinâmico temporal. Derivadas das redes neuronais *feed forward*, as RNN podem utilizar o seu estado interno (memória) para processar sequências de entradas de comprimento variável. Ilustração e legenda feitos por Rishikesh Gawde [5]"
   ]
  },
  {
   "cell_type": "markdown",
   "metadata": {},
   "source": [
    "Pela imagem, percebe-se que cada entrada possui uma dependência temporal, compartilhando os mesmos pesos: $W_xh$ é o peso entre o input $X$ e a célula oculta $h$, $W_hy$ é passando da função de ativação da célula oculta para o dado de saída $Y$, e $W_hh$ é o peso distribuído entre as camadas ocultas consecutivas. O modelo estima os outputs pelo mesmo processo de *backpropagation*, no entanto, uma limitação das RNN padrão é o chamado **Vanishing Exploding Gradient Problem**, ou Problema do Gradiente Explodindo e Desaparecendo.\n",
    "\n",
    "- Caso o módulo do peso $W_hh$ seja maior que 1, quanto mais exemplos iniciais $n$, mais o output final é multiplicado $n$ vezes. Ao tornar o valor do gradiente extremamente maior, prejudica minimizar a função perda \n",
    "\n",
    "- Caso o módulo do peso $W_hh$ seja menor que 1, quanto mais exemplos iniciais, mais o output final é multiplicado por um número próximo de 0, tornando o valor do gradiente extremamente menor. Isso dificulta para a resposta convergir, resultando em um mínimo local sub-ótimo"
   ]
  },
  {
   "cell_type": "markdown",
   "metadata": {},
   "source": [
    "O funcionamento do algoritmo é bem explicado pelo vídeo do *Statquest*, no qual há boas ilustrações e uma visão geral das RNNs [6] "
   ]
  },
  {
   "cell_type": "markdown",
   "metadata": {},
   "source": [
    "### LSTM:"
   ]
  },
  {
   "cell_type": "markdown",
   "metadata": {},
   "source": [
    "A alternativa ao problema mencionado pode ser uma rede neural recorrente com memória de longo e curto prazo. Esse modelo é mais complexo, contendo 2 unidades de memória -**Cell State**, ou Estado de Célula, e **Hidden State**, ou Estado Oculto-, 2 funções de ativação -Sigmoide e *Tanh*- e dividido em 3 partes: **Forget Gate** (Portão do Esquecimento, em português), **Input Gate** (Portão de Entrada, em português), e **Output Gate** (Portão de Saída, em português). "
   ]
  },
  {
   "cell_type": "markdown",
   "metadata": {},
   "source": [
    "![](https://www.mdpi.com/energies/energies-10-01168/article_deploy/html/images/energies-10-01168-g008.png)"
   ]
  },
  {
   "cell_type": "markdown",
   "metadata": {},
   "source": [
    "#### Forget Gate:"
   ]
  },
  {
   "cell_type": "markdown",
   "metadata": {},
   "source": [
    "No caminho *Forget Gate* ($f_t$), a informação do input $X_t$ passa em conjunto com a da memória de curto prazo $h_{t-1}$ (*h* de *hidden state*), com ambos contendo seus respectivos pesos e o mesmo viés. A função sigmoide $\\sigma$ é aplicada ao resultado e multiplicada com a memória de longo prazo $C_t-1$, indicando a porcentagem desta a ser lembrada.\n",
    "\n",
    "\n",
    "$$ f_t = \\sigma(W_{xf} \\cdot x^{(t)} + W_{hf} \\cdot h^{(t-1)} + b_f) \n",
    "\\tag{4} $$\n",
    "\n",
    "\n",
    "As fórmulas mencionadas são exploradas no livro de Sebastian Raschka [7]. $W_{xf}$ é o peso correspondente ao dado de entrada, $W_{hf}$ é o peso relativo ao estado oculto e $b_f$ é o viés."
   ]
  },
  {
   "cell_type": "markdown",
   "metadata": {},
   "source": [
    "#### Input Gate:"
   ]
  },
  {
   "cell_type": "markdown",
   "metadata": {},
   "source": [
    "No caminho *Input Gate* ($i_t$) ocorre a atualização da memória de longo prazo. Primeiro, é computado o **Valor Candidato** ($\\tilde{C}_t$, ou *Candidate Value*) usando a função *tanh* de modo similar ao cálculo de $f_t$, representando um possível *estado de célula*. Em seguida, calcula-se a porcentagem desse candidato a atualizar a memória de longo prazo de maneira idêntica em (4), somando à memória existente.\n",
    "\n",
    "\n",
    "$$ i_t = \\sigma(W_{xi} \\cdot x^{(t)} + W_{hi} \\cdot h^{(t-1)} + b_i) \n",
    "\\tag{5} $$\n",
    "\n",
    "$$ \\tilde{C}_t = tanh(W_{xc} \\cdot x^{(t)} + W_{hc} \\cdot h^{(t-1)} + b_c) \n",
    "\\tag{6} $$\n",
    "\n",
    "O *Cell State* no instante t é calculado abaixo:\n",
    "$$ C^{(t)} = (C^{(t-1)} \\cdot f_t) + (i_t \\cdot \\tilde{C}_t) \n",
    "\\tag{7} $$\n",
    "\n",
    "Em que $W_{xi}$, $W_{hi}$, $W_{xc}$ e $W_{hc}$ são, respectivamente, os pesos do input para o portão de entrada, do estado oculto para o portão de entrada, do input para o valor candidato e do estado oculto para o valor candidato. $b_i$ e $b_c$ são os vieses no *input gate* e no *candidate value*."
   ]
  },
  {
   "cell_type": "markdown",
   "metadata": {},
   "source": [
    "#### Output Gate:"
   ]
  },
  {
   "cell_type": "markdown",
   "metadata": {},
   "source": [
    "No caminho *Output Gate* ($o_t$), há a modificação da memória de curto prazo, a qual é o dado de saída de toda a unidade do LSTM. O método é parecido com o explicado nos portões prévios: combinam-se o input, o estado oculto e o viés, com seus pesos, aplicando-os à função sigmoide. Por fim, a porcentagem do *hidden state* é multiplicada com a tangente hiperbólica do *cell state* mais recente.\n",
    "\n",
    "\n",
    "$$ o_t = \\sigma(W_{xo} \\cdot x^{(t)} + W_{ho} \\cdot h^{(t-1)} + b_o) \n",
    "\\tag{8} $$\n",
    "\n",
    "$$ h^{(t)} = o_t \\cdot tanh(C^{(t)})\n",
    "\\tag{9} $$\n",
    "\n",
    "\n",
    "$W_{xo}$ é o peso do input, $W_{ho}$ é o do estado oculto e $b_o $ é o viés, assim como nas últimas etapas. O material também foi baseado em outro vídeo do *Statquest* [8]"
   ]
  },
  {
   "cell_type": "markdown",
   "metadata": {},
   "source": [
    "## Importações e definições:"
   ]
  },
  {
   "cell_type": "markdown",
   "metadata": {},
   "source": [
    "Importando as principais bibliotecas usadas neste notebok. A documentação de cada biblioteca se encontra no final do arquivo, na sessão \"Referências\" [9-16]"
   ]
  },
  {
   "cell_type": "code",
   "execution_count": 1,
   "metadata": {},
   "outputs": [],
   "source": [
    "# Geral\n",
    "import os\n",
    "import numpy as np\n",
    "import pandas as pd\n",
    "import seaborn as sns\n",
    "from sklearn.preprocessing import StandardScaler\n",
    "from sklearn.metrics import mean_squared_error\n",
    "\n",
    "# Modelos\n",
    "import torch\n",
    "import torch.nn as nn\n",
    "from torch.nn import functional as F\n",
    "from torch.utils.data import DataLoader, Dataset\n",
    "import torch.optim as optim\n",
    "import lightning as L\n"
   ]
  },
  {
   "cell_type": "markdown",
   "metadata": {},
   "source": []
  },
  {
   "cell_type": "code",
   "execution_count": 2,
   "metadata": {},
   "outputs": [],
   "source": [
    "class TempDataset(Dataset):\n",
    "    \"\"\"Ajuda a criar um dataset com os batches de treinamento\"\"\"\n",
    "    def __init__(self, sequencias):\n",
    "        self.sequencias = sequencias\n",
    "\n",
    "    def __len__(self):\n",
    "        return len(self.sequencias)\n",
    "\n",
    "    def __getitem__(self, idx):\n",
    "        sequencia, target = self.sequencias[idx]\n",
    "        return torch.FloatTensor(sequencia), torch.FloatTensor(target)"
   ]
  },
  {
   "cell_type": "code",
   "execution_count": 3,
   "metadata": {},
   "outputs": [],
   "source": [
    "class DataModule(L.LightningDataModule):\n",
    "    \"\"\"Módulo padrão para lidar com todas as etapas do dataset, facilitando a organização\"\"\"\n",
    "    def __init__(self):\n",
    "        # Constantes\n",
    "        super().__init__()\n",
    "        self.ATRIBUTOS = ['AT','AP','AH','AFDP','GTEP','TIT','TAT','TEY','CDP']  \n",
    "        self.TARGET = ['CO', 'NOX']  \n",
    "        self.TAMANHO_SEQUENCIA = 20\n",
    "        self.TAMANHO_LOTE = 128\n",
    "\n",
    "        # Funções\n",
    "        self.definicoes()\n",
    "        self.pre_processing()\n",
    "\n",
    "        # Dataloaders\n",
    "        #self.train_dataloader()\n",
    "        #self.val_dataloader()  \n",
    "        #self.test_dataloader()  \n",
    "\n",
    "    def definicoes(self):\n",
    "            # Diretório\n",
    "            atual = os.getcwd()\n",
    "            caminho = os.path.dirname(atual)\n",
    "            os.chdir(f'{caminho}\\\\Datasets')\n",
    "\n",
    "            # Carregar datasets\n",
    "            df_2011 = pd.read_csv('gt_2011.csv')\n",
    "            df_2012 = pd.read_csv('gt_2012.csv')\n",
    "            df_2013 = pd.read_csv('gt_2013.csv')\n",
    "            df_2014 = pd.read_csv('gt_2014.csv')\n",
    "            df_2015 = pd.read_csv('gt_2015.csv')\n",
    "\n",
    "            # Dividir datasets\n",
    "            self.df_treino = pd.concat([df_2011,df_2012], ignore_index= True)\n",
    "            self.df_val = df_2013\n",
    "            self.df_teste = pd.concat([df_2014,df_2015], ignore_index= True)\n",
    "            self.df_tot = pd.concat([df_2011,df_2012,df_2013,df_2014,df_2015], ignore_index= True)\n",
    "\n",
    "    def pre_processing(self):\n",
    "            # Organizar e normalizar dados\n",
    "            self.X_treino = self.df_treino.reindex(self.ATRIBUTOS, axis=1).values\n",
    "            self.y_treino = self.df_treino.reindex(self.TARGET, axis=1).values\n",
    "\n",
    "            self.x_scaler = StandardScaler()\n",
    "            self.x_scaler.fit(self.X_treino)\n",
    "            self.y_scaler = StandardScaler()  \n",
    "            self.y_scaler.fit(self.y_treino)                                 \n",
    "\n",
    "    def setup(self, stage):\n",
    "        \"\"\"Aqui devemos alterar o estado da classe para adicionar as informações \n",
    "        referentes aos conjuntos de treino, teste e validação. O argumento `stage` \n",
    "        deve existir e ele indica em qual estágio o processo de treino está \n",
    "        (pode ser `fit` para treinamento/validação e `test` para teste).\n",
    "\n",
    "        É nesta etapa onde aplicamos transformações aos dados caso necessário.\"\"\"\n",
    "\n",
    "        def cria_sequencias(data_x, data_y, tamanho_sequencia):\n",
    "            '''Divide o dataset em exemplos (batches) para o treinamento do LSTM'''\n",
    "            sequencias = []\n",
    "\n",
    "            for i in range(len(data_x) - tamanho_sequencia):\n",
    "                sequencia_x = data_x[i : i + tamanho_sequencia]\n",
    "                target_y = data_y[i + tamanho_sequencia]\n",
    "                sequencias.append((sequencia_x, target_y))\n",
    "\n",
    "            return sequencias\n",
    "\n",
    "        # Controlar modo de operação\n",
    "        if stage == \"fit\":\n",
    "            # Treino\n",
    "            self.X_treino_norm = self.x_scaler.transform(self.X_treino)\n",
    "            self.y_treino_norm = self.y_scaler.transform(self.y_treino)\n",
    "            \n",
    "            self.seq_treino = cria_sequencias(self.X_treino_norm, self.y_treino_norm, self.TAMANHO_SEQUENCIA)\n",
    "            self.X_treino_norm = torch.tensor(self.X_treino_norm, dtype=torch.float32)\n",
    "            self.y_treino_norm = torch.tensor(self.y_treino_norm, dtype=torch.float32)\n",
    "\n",
    "            # Validação\n",
    "            self.X_val = self.df_val.reindex(self.ATRIBUTOS, axis=1).values\n",
    "            self.y_val = self.df_val.reindex(self.TARGET, axis=1).values\n",
    "            self.X_val_norm = self.x_scaler.transform(self.X_val)\n",
    "            self.y_val_norm = self.y_scaler.transform(self.y_val)\n",
    "            \n",
    "            self.seq_val = cria_sequencias(self.X_val_norm, self.y_val_norm, self.TAMANHO_SEQUENCIA)\n",
    "            self.X_val_norm = torch.tensor(self.X_val_norm, dtype=torch.float32)\n",
    "            self.y_val_norm = torch.tensor(self.y_val_norm, dtype=torch.float32)\n",
    "        if stage == \"test\":\n",
    "            # Teste\n",
    "            self.X_teste = self.df_teste.reindex(self.ATRIBUTOS, axis=1).values\n",
    "            self.y_teste = self.df_teste.reindex(self.TARGET, axis=1).values\n",
    "            self.X_teste_norm = self.x_scaler.transform(self.X_teste)\n",
    "            self.y_teste_norm = self.y_scaler.transform(self.y_teste)\n",
    "\n",
    "            self.seq_teste = cria_sequencias(self.X_teste_norm, self.y_teste_norm, self.TAMANHO_SEQUENCIA)\n",
    "            self.X_teste_norm = torch.tensor(self.X_teste_norm, dtype=torch.float32)\n",
    "            self.y_teste_norm = torch.tensor(self.y_teste_norm, dtype=torch.float32)\n",
    "\n",
    "    def train_dataloader(self):\n",
    "        self.dataset_treino = TempDataset(self.seq_treino)\n",
    "        self.dataloader_treino = DataLoader(\n",
    "            self.dataset_treino, batch_size=self.TAMANHO_LOTE, shuffle=False)\n",
    "        return self.dataloader_treino\n",
    "\n",
    "    def val_dataloader(self):\n",
    "        self.dataset_val = TempDataset(self.seq_val)\n",
    "        self.dataloader_val = DataLoader(\n",
    "            self.dataset_val, batch_size=self.TAMANHO_LOTE, shuffle=False)\n",
    "        return self.dataloader_val\n",
    "\n",
    "    def test_dataloader(self):\n",
    "        self.dataset_teste = TempDataset(self.seq_teste)\n",
    "        self.dataloader_teste = DataLoader(\n",
    "            self.dataset_teste, batch_size=self.TAMANHO_LOTE, shuffle=False)\n",
    "        return self.dataloader_teste"
   ]
  },
  {
   "cell_type": "markdown",
   "metadata": {},
   "source": []
  },
  {
   "cell_type": "markdown",
   "metadata": {},
   "source": [
    "### Pytorch"
   ]
  },
  {
   "cell_type": "markdown",
   "metadata": {},
   "source": []
  },
  {
   "cell_type": "code",
   "execution_count": 4,
   "metadata": {},
   "outputs": [],
   "source": [
    "class TimeSeriesModel(L.LightningModule):\n",
    "    def __init__(self, num_inputs, num_hidden, num_outputs):\n",
    "        super().__init__()\n",
    "\n",
    "        self.lstm = torch.nn.LSTM(num_inputs, num_hidden, batch_first=True)\n",
    "        self.fc = torch.nn.Linear(num_hidden, num_outputs) # function\n",
    "        self.loss = F.mse_loss\n",
    "\n",
    "        # Curva de aprendizado\n",
    "        self.perdas_treino = []\n",
    "        self.perdas_val = []\n",
    "\n",
    "        self.curva_aprendizado_treino = []\n",
    "        self.curva_aprendizado_val = []\n",
    "\n",
    "    def forward(self, x):\n",
    "        _, (hidden, _) = self.lstm(x)\n",
    "        return self.fc(hidden[-1])\n",
    "\n",
    "    def configure_optimizers(self):\n",
    "        optimizer = optim.Adam(self.parameters(), lr=0.01)\n",
    "        return optimizer\n",
    "\n",
    "    def training_step(self, batch, batch_idx):\n",
    "        x, y = batch\n",
    "        y_pred = self(x)\n",
    "        loss = self.loss(y, y_pred)\n",
    "\n",
    "        self.log(\"train_loss\", loss, prog_bar=True)\n",
    "        self.perdas_treino.append(loss)\n",
    "\n",
    "        return loss\n",
    "\n",
    "    def validation_step(self, batch, batch_idx):\n",
    "        x, y = batch\n",
    "        y_pred = self(x)\n",
    "        loss = self.loss(y, y_pred)\n",
    "\n",
    "        self.log(\"val_loss\", loss, prog_bar=True)\n",
    "        self.perdas_val.append(loss)\n",
    "\n",
    "        return loss\n",
    "\n",
    "    def test_step(self, batch, batch_idx):\n",
    "        x, y = batch\n",
    "        y_pred = self(x)\n",
    "        loss = self.loss(y, y_pred)\n",
    "\n",
    "        self.log(\"test_loss\", loss)\n",
    "\n",
    "        return loss\n",
    "\n",
    "    def on_train_epoch_end(self):\n",
    "        # Atualiza curva de aprendizado treino\n",
    "        perda_media = torch.stack(self.perdas_treino).mean()\n",
    "        self.curva_aprendizado_treino.append(float(perda_media))\n",
    "        self.perdas_treino.clear()\n",
    "\n",
    "    def on_validation_epoch_end(self):\n",
    "        # Atualiza curva de aprendizado validação\n",
    "        perda_media = torch.stack(self.perdas_val).mean()\n",
    "        self.curva_aprendizado_val.append(float(perda_media))\n",
    "        self.perdas_val.clear()"
   ]
  },
  {
   "cell_type": "code",
   "execution_count": 5,
   "metadata": {},
   "outputs": [
    {
     "name": "stderr",
     "output_type": "stream",
     "text": [
      "GPU available: False, used: False\n",
      "TPU available: False, using: 0 TPU cores\n",
      "IPU available: False, using: 0 IPUs\n",
      "HPU available: False, using: 0 HPUs\n"
     ]
    }
   ],
   "source": [
    "NUM_EPOCAS = 20\n",
    "treinador = L.Trainer(max_epochs=NUM_EPOCAS)"
   ]
  },
  {
   "cell_type": "code",
   "execution_count": 6,
   "metadata": {},
   "outputs": [],
   "source": [
    "ATRIBUTOS = ['AT','AP','AH','AFDP','GTEP','TIT','TAT','TEY','CDP']\n",
    "TARGET = ['CO', 'NOX']\n",
    "\n",
    "dm = DataModule()"
   ]
  },
  {
   "cell_type": "code",
   "execution_count": 7,
   "metadata": {},
   "outputs": [],
   "source": [
    "num_inputs = len(ATRIBUTOS)\n",
    "num_hidden = 3\n",
    "num_outputs = len(TARGET)\n",
    "\n",
    "modelo = TimeSeriesModel(\n",
    "    num_inputs, num_hidden, num_outputs\n",
    ")"
   ]
  },
  {
   "cell_type": "code",
   "execution_count": 8,
   "metadata": {},
   "outputs": [
    {
     "name": "stderr",
     "output_type": "stream",
     "text": [
      "\n",
      "  | Name | Type   | Params\n",
      "--------------------------------\n",
      "0 | lstm | LSTM   | 168   \n",
      "1 | fc   | Linear | 8     \n",
      "--------------------------------\n",
      "176       Trainable params\n",
      "0         Non-trainable params\n",
      "176       Total params\n",
      "0.001     Total estimated model params size (MB)\n"
     ]
    },
    {
     "data": {
      "application/vnd.jupyter.widget-view+json": {
       "model_id": "af1ca9b3e3944707a6948ae6d36216f2",
       "version_major": 2,
       "version_minor": 0
      },
      "text/plain": [
       "Sanity Checking: |          | 0/? [00:00<?, ?it/s]"
      ]
     },
     "metadata": {},
     "output_type": "display_data"
    },
    {
     "name": "stderr",
     "output_type": "stream",
     "text": [
      "c:\\venv\\ilumpy\\Lib\\site-packages\\lightning\\pytorch\\trainer\\connectors\\data_connector.py:441: The 'val_dataloader' does not have many workers which may be a bottleneck. Consider increasing the value of the `num_workers` argument` to `num_workers=11` in the `DataLoader` to improve performance.\n",
      "c:\\venv\\ilumpy\\Lib\\site-packages\\lightning\\pytorch\\trainer\\connectors\\data_connector.py:441: The 'train_dataloader' does not have many workers which may be a bottleneck. Consider increasing the value of the `num_workers` argument` to `num_workers=11` in the `DataLoader` to improve performance.\n"
     ]
    },
    {
     "data": {
      "application/vnd.jupyter.widget-view+json": {
       "model_id": "e8883cc5743347d68224398f4b68dced",
       "version_major": 2,
       "version_minor": 0
      },
      "text/plain": [
       "Training: |          | 0/? [00:00<?, ?it/s]"
      ]
     },
     "metadata": {},
     "output_type": "display_data"
    },
    {
     "data": {
      "application/vnd.jupyter.widget-view+json": {
       "model_id": "f6587013a30848838b19ee7226091a5c",
       "version_major": 2,
       "version_minor": 0
      },
      "text/plain": [
       "Validation: |          | 0/? [00:00<?, ?it/s]"
      ]
     },
     "metadata": {},
     "output_type": "display_data"
    },
    {
     "data": {
      "application/vnd.jupyter.widget-view+json": {
       "model_id": "f53c1a3dcdee4b6293fd252fb3dc105b",
       "version_major": 2,
       "version_minor": 0
      },
      "text/plain": [
       "Validation: |          | 0/? [00:00<?, ?it/s]"
      ]
     },
     "metadata": {},
     "output_type": "display_data"
    },
    {
     "data": {
      "application/vnd.jupyter.widget-view+json": {
       "model_id": "7f19537221404df081cbd5e2cd03cff1",
       "version_major": 2,
       "version_minor": 0
      },
      "text/plain": [
       "Validation: |          | 0/? [00:00<?, ?it/s]"
      ]
     },
     "metadata": {},
     "output_type": "display_data"
    },
    {
     "data": {
      "application/vnd.jupyter.widget-view+json": {
       "model_id": "510aaf181a334aad9843da4892592747",
       "version_major": 2,
       "version_minor": 0
      },
      "text/plain": [
       "Validation: |          | 0/? [00:00<?, ?it/s]"
      ]
     },
     "metadata": {},
     "output_type": "display_data"
    },
    {
     "data": {
      "application/vnd.jupyter.widget-view+json": {
       "model_id": "55a0cc0ca49e46148d0dc8d32ed788f0",
       "version_major": 2,
       "version_minor": 0
      },
      "text/plain": [
       "Validation: |          | 0/? [00:00<?, ?it/s]"
      ]
     },
     "metadata": {},
     "output_type": "display_data"
    },
    {
     "data": {
      "application/vnd.jupyter.widget-view+json": {
       "model_id": "1eb5cff884ad4e8ea7d519eca590dd65",
       "version_major": 2,
       "version_minor": 0
      },
      "text/plain": [
       "Validation: |          | 0/? [00:00<?, ?it/s]"
      ]
     },
     "metadata": {},
     "output_type": "display_data"
    },
    {
     "data": {
      "application/vnd.jupyter.widget-view+json": {
       "model_id": "55668f5adb854f8495e6c498e607191a",
       "version_major": 2,
       "version_minor": 0
      },
      "text/plain": [
       "Validation: |          | 0/? [00:00<?, ?it/s]"
      ]
     },
     "metadata": {},
     "output_type": "display_data"
    },
    {
     "data": {
      "application/vnd.jupyter.widget-view+json": {
       "model_id": "d6722d96bbc14d718b89f754963e9326",
       "version_major": 2,
       "version_minor": 0
      },
      "text/plain": [
       "Validation: |          | 0/? [00:00<?, ?it/s]"
      ]
     },
     "metadata": {},
     "output_type": "display_data"
    },
    {
     "data": {
      "application/vnd.jupyter.widget-view+json": {
       "model_id": "1c348aa0fa7c40f7953287fd218d0480",
       "version_major": 2,
       "version_minor": 0
      },
      "text/plain": [
       "Validation: |          | 0/? [00:00<?, ?it/s]"
      ]
     },
     "metadata": {},
     "output_type": "display_data"
    },
    {
     "data": {
      "application/vnd.jupyter.widget-view+json": {
       "model_id": "80e7a62ce067489db70fcf6e2cfb5abb",
       "version_major": 2,
       "version_minor": 0
      },
      "text/plain": [
       "Validation: |          | 0/? [00:00<?, ?it/s]"
      ]
     },
     "metadata": {},
     "output_type": "display_data"
    },
    {
     "data": {
      "application/vnd.jupyter.widget-view+json": {
       "model_id": "d9adb1cbd6664ab39a1ff65541940afe",
       "version_major": 2,
       "version_minor": 0
      },
      "text/plain": [
       "Validation: |          | 0/? [00:00<?, ?it/s]"
      ]
     },
     "metadata": {},
     "output_type": "display_data"
    },
    {
     "data": {
      "application/vnd.jupyter.widget-view+json": {
       "model_id": "f773c23d64c546bc8daa7461475da704",
       "version_major": 2,
       "version_minor": 0
      },
      "text/plain": [
       "Validation: |          | 0/? [00:00<?, ?it/s]"
      ]
     },
     "metadata": {},
     "output_type": "display_data"
    },
    {
     "data": {
      "application/vnd.jupyter.widget-view+json": {
       "model_id": "05cb2f8a4bbe4d8a8829111683ffa790",
       "version_major": 2,
       "version_minor": 0
      },
      "text/plain": [
       "Validation: |          | 0/? [00:00<?, ?it/s]"
      ]
     },
     "metadata": {},
     "output_type": "display_data"
    },
    {
     "data": {
      "application/vnd.jupyter.widget-view+json": {
       "model_id": "63f26e59110141ee8d79bde999c2883d",
       "version_major": 2,
       "version_minor": 0
      },
      "text/plain": [
       "Validation: |          | 0/? [00:00<?, ?it/s]"
      ]
     },
     "metadata": {},
     "output_type": "display_data"
    },
    {
     "data": {
      "application/vnd.jupyter.widget-view+json": {
       "model_id": "4ac8b3d9c8e7481d9108753ad7e78ac8",
       "version_major": 2,
       "version_minor": 0
      },
      "text/plain": [
       "Validation: |          | 0/? [00:00<?, ?it/s]"
      ]
     },
     "metadata": {},
     "output_type": "display_data"
    },
    {
     "data": {
      "application/vnd.jupyter.widget-view+json": {
       "model_id": "cc537308112b463daf02fb9b2ba4bd84",
       "version_major": 2,
       "version_minor": 0
      },
      "text/plain": [
       "Validation: |          | 0/? [00:00<?, ?it/s]"
      ]
     },
     "metadata": {},
     "output_type": "display_data"
    },
    {
     "data": {
      "application/vnd.jupyter.widget-view+json": {
       "model_id": "8a7680ebf0c641b5bc9503828b99f07a",
       "version_major": 2,
       "version_minor": 0
      },
      "text/plain": [
       "Validation: |          | 0/? [00:00<?, ?it/s]"
      ]
     },
     "metadata": {},
     "output_type": "display_data"
    },
    {
     "data": {
      "application/vnd.jupyter.widget-view+json": {
       "model_id": "c637dcfe47cd45209202c72871aad793",
       "version_major": 2,
       "version_minor": 0
      },
      "text/plain": [
       "Validation: |          | 0/? [00:00<?, ?it/s]"
      ]
     },
     "metadata": {},
     "output_type": "display_data"
    },
    {
     "data": {
      "application/vnd.jupyter.widget-view+json": {
       "model_id": "bb349161e10b43d499cfa40ff6b07e51",
       "version_major": 2,
       "version_minor": 0
      },
      "text/plain": [
       "Validation: |          | 0/? [00:00<?, ?it/s]"
      ]
     },
     "metadata": {},
     "output_type": "display_data"
    },
    {
     "data": {
      "application/vnd.jupyter.widget-view+json": {
       "model_id": "1b1ccc38f5244893a82a91ae2cfcce6c",
       "version_major": 2,
       "version_minor": 0
      },
      "text/plain": [
       "Validation: |          | 0/? [00:00<?, ?it/s]"
      ]
     },
     "metadata": {},
     "output_type": "display_data"
    },
    {
     "name": "stderr",
     "output_type": "stream",
     "text": [
      "`Trainer.fit` stopped: `max_epochs=20` reached.\n"
     ]
    }
   ],
   "source": [
    "treinador.fit(modelo, dm)"
   ]
  },
  {
   "cell_type": "code",
   "execution_count": 9,
   "metadata": {},
   "outputs": [
    {
     "data": {
      "image/png": "[encoded data removed]",
      "text/plain": [
       "<Figure size 640x480 with 1 Axes>"
      ]
     },
     "metadata": {},
     "output_type": "display_data"
    }
   ],
   "source": [
    "ca_treino = modelo.curva_aprendizado_treino\n",
    "ca_val = modelo.curva_aprendizado_val\n",
    "\n",
    "sns.lineplot(ca_treino, label=\"Treino\")\n",
    "eixo = sns.lineplot(ca_val, label=\"Validação\")\n",
    "\n",
    "eixo.set_xlim(left=0)\n",
    "\n",
    "eixo.set_title(\"Curva de aprendizado\")\n",
    "eixo.set_xlabel(\"Época\")\n",
    "eixo.set_ylabel(\"Perda\");"
   ]
  },
  {
   "cell_type": "code",
   "execution_count": 122,
   "metadata": {},
   "outputs": [],
   "source": [
    "modelo.eval()\n",
    "dm.setup('test')\n",
    "dataloader_teste = dm.test_dataloader()\n",
    "i = 0 # index\n",
    "\n",
    "with torch.no_grad():\n",
    "    y_pred_norm = []\n",
    "    y_true_norm = []\n",
    "\n",
    "    for atributo, target in dataloader_teste:\n",
    "        if i <= 57:\n",
    "            previsao = modelo(atributo)\n",
    "\n",
    "            y_pred_co_norm = previsao[i][0].item()\n",
    "            y_pred_nox_norm = previsao[i][1].item()\n",
    "            y_pred_norm.append([y_pred_co_norm, y_pred_nox_norm])\n",
    "\n",
    "            y_true_co_norm = target[i][0].item()\n",
    "            y_true_nox_norm = target[i][1].item()\n",
    "            y_true_norm.append([y_true_co_norm, y_true_nox_norm])\n",
    "\n",
    "            i += 1\n",
    "\n",
    "            "
   ]
  },
  {
   "cell_type": "code",
   "execution_count": 123,
   "metadata": {},
   "outputs": [
    {
     "data": {
      "text/plain": [
       "[[0.5990471839904785, 0.6220736503601074],\n",
       " [1.6975206136703491, 1.0401960611343384],\n",
       " [0.014089604839682579, 0.10400938987731934],\n",
       " [-0.037789613008499146, 0.7842577695846558],\n",
       " [0.09188966453075409, 1.0567481517791748],\n",
       " [0.020681243389844894, -0.24299073219299316],\n",
       " [-0.0021698633208870888, 0.7606852054595947],\n",
       " [-0.08785656094551086, 0.2534472346305847],\n",
       " [0.00236513651907444, 0.2236340045928955],\n",
       " [-0.3648242950439453, 0.004567921161651611],\n",
       " [0.21365666389465332, 0.5570402145385742],\n",
       " [1.3129732608795166, 1.106046438217163],\n",
       " [-0.14592930674552917, 0.014504194259643555],\n",
       " [-0.09487350285053253, 0.5538699626922607],\n",
       " [-0.1530098021030426, 0.12785500288009644],\n",
       " [-0.11390337347984314, 0.1471824049949646],\n",
       " [1.537052869796753, 0.407531201839447],\n",
       " [1.1405298709869385, -0.5571317672729492],\n",
       " [0.09761528670787811, -0.3153623342514038],\n",
       " [-0.28853246569633484, 0.10226702690124512],\n",
       " [-0.37968137860298157, -0.15467184782028198],\n",
       " [-0.38581186532974243, -0.26897287368774414],\n",
       " [0.20800292491912842, -1.245443344116211],\n",
       " [0.40230104327201843, -0.8415826559066772],\n",
       " [-0.32966652512550354, -0.7796138525009155],\n",
       " [0.5808544158935547, -0.7717775106430054],\n",
       " [0.178975909948349, -1.2520296573638916],\n",
       " [0.12238871306180954, -0.8056430816650391],\n",
       " [-0.3366701900959015, -0.21237552165985107],\n",
       " [0.4100465178489685, -0.8833833932876587],\n",
       " [0.2828926742076874, -1.136763334274292],\n",
       " [0.3835376501083374, -1.4524800777435303],\n",
       " [0.16815584897994995, -1.0034581422805786],\n",
       " [0.41613641381263733, -1.6522855758666992],\n",
       " [0.3718232214450836, -1.6201181411743164],\n",
       " [0.20600295066833496, -1.1183586120605469],\n",
       " [-0.28107765316963196, -1.1257249116897583],\n",
       " [0.5343486666679382, -0.9023417234420776],\n",
       " [0.5085126757621765, -1.7257282733917236],\n",
       " [-0.29137560725212097, -0.18751180171966553],\n",
       " [-0.2673672139644623, -0.9046958684921265],\n",
       " [-0.29150205850601196, -0.4137742519378662],\n",
       " [-0.25868743658065796, -0.4236551523208618],\n",
       " [0.6335946917533875, -0.9874353408813477],\n",
       " [0.9182014465332031, 0.18429988622665405],\n",
       " [0.570971667766571, -0.8838884830474854],\n",
       " [0.7293350696563721, -0.926443338394165],\n",
       " [0.35904356837272644, -0.6047885417938232],\n",
       " [-0.23552915453910828, -0.4696207046508789],\n",
       " [0.39146196842193604, 1.4378597736358643],\n",
       " [-0.3278164267539978, 0.09975165128707886],\n",
       " [1.7613557577133179, 0.9238103032112122],\n",
       " [-0.394010066986084, -0.08799576759338379],\n",
       " [0.3696337640285492, 1.3858994245529175],\n",
       " [-0.3107655644416809, 0.10837739706039429],\n",
       " [-0.3096158504486084, 0.14292919635772705],\n",
       " [-0.24279141426086426, 0.30154335498809814],\n",
       " [-0.2958451509475708, 0.17546141147613525]]"
      ]
     },
     "execution_count": 123,
     "metadata": {},
     "output_type": "execute_result"
    }
   ],
   "source": [
    "y_pred_norm"
   ]
  },
  {
   "cell_type": "code",
   "execution_count": 124,
   "metadata": {},
   "outputs": [
    {
     "data": {
      "text/plain": [
       "[[-0.46515196561813354, -0.16522394120693207],\n",
       " [-0.37900498509407043, -0.7292035222053528],\n",
       " [-0.6361678838729858, -0.9701722264289856],\n",
       " [0.3179832696914673, -0.12702041864395142],\n",
       " [-0.3461536467075348, -0.4938697814941406],\n",
       " [0.14436623454093933, -0.5409556031227112],\n",
       " [-0.26263025403022766, -0.3740062117576599],\n",
       " [-0.4360222816467285, -0.7403780221939087],\n",
       " [-0.41203629970550537, -1.0085667371749878],\n",
       " [-0.028845779597759247, 1.5865987539291382],\n",
       " [-0.43089208006858826, -0.637133002281189],\n",
       " [-0.25624001026153564, -0.6483075022697449],\n",
       " [-0.19719760119915009, -0.6908089518547058],\n",
       " [-0.4441811144351959, -0.6262450218200684],\n",
       " [-0.20552293956279755, -0.7133490443229675],\n",
       " [-0.12838982045650482, 0.04747418686747551],\n",
       " [0.32491356134414673, -0.4767737090587616],\n",
       " [1.9378689527511597, 0.14871352910995483],\n",
       " [-0.20624296367168427, -0.7193660736083984],\n",
       " [-0.27419573068618774, -0.18212901055812836],\n",
       " [-0.4375073313713074, -0.8286281824111938],\n",
       " [-0.2608751952648163, -0.6594820618629456],\n",
       " [-0.1265447437763214, -1.2053149938583374],\n",
       " [-0.09954364597797394, -1.3753206729888916],\n",
       " [-0.1344650536775589, -1.20798921585083],\n",
       " [0.1606568992137909, -1.0850692987442017],\n",
       " [-0.009494994767010212, -2.151425361633301],\n",
       " [0.09522424638271332, -1.5437027215957642],\n",
       " [-0.39925578236579895, -1.3931807279586792],\n",
       " [-0.2563750147819519, -1.0454331636428833],\n",
       " [-0.32878294587135315, -2.29573917388916],\n",
       " [0.003825545310974121, -1.6757913827896118],\n",
       " [-0.14211536943912506, -1.2442824840545654],\n",
       " [0.052247509360313416, -1.8864837884902954],\n",
       " [-0.16839642822742462, -2.056394100189209],\n",
       " [0.02308632619678974, -1.1999664306640625],\n",
       " [-0.07078748196363449, -2.311306953430176],\n",
       " [-0.061472102999687195, -1.355932354927063],\n",
       " [0.03186168149113655, -1.9547725915908813],\n",
       " [-0.3364332318305969, -1.4694923162460327],\n",
       " [-0.07866279780864716, -1.295857310295105],\n",
       " [-0.44759225845336914, -1.1768532991409302],\n",
       " [-0.6263260245323181, -1.3760846853256226],\n",
       " [0.31537318229675293, -1.0783836841583252],\n",
       " [0.7191295623779297, 0.0701097771525383],\n",
       " [0.37612563371658325, -1.1041711568832397],\n",
       " [0.4019116759300232, -1.1013058423995972],\n",
       " [-0.0994536429643631, -0.8587134480476379],\n",
       " [-0.21515333652496338, -0.740664541721344],\n",
       " [0.3744155764579773, 0.5869079828262329],\n",
       " [-0.5396119952201843, -1.0959573984146118],\n",
       " [0.8327591419219971, 0.08281245082616806],\n",
       " [-0.7015555500984192, -1.781328558921814],\n",
       " [0.8565201163291931, 0.19665895402431488],\n",
       " [0.1699722856283188, -1.0949068069458008],\n",
       " [0.11399000883102417, 0.6538596749305725],\n",
       " [0.4824199378490448, -0.4135468602180481],\n",
       " [0.2377900332212448, -0.7280573844909668]]"
      ]
     },
     "execution_count": 124,
     "metadata": {},
     "output_type": "execute_result"
    }
   ],
   "source": [
    "y_true_norm"
   ]
  },
  {
   "cell_type": "code",
   "execution_count": 125,
   "metadata": {},
   "outputs": [
    {
     "name": "stdout",
     "output_type": "stream",
     "text": [
      "1.23145078345506\n",
      "9.138065488736121\n"
     ]
    }
   ],
   "source": [
    "y_pred = dm.y_scaler.inverse_transform(np.array(y_pred_norm).reshape(-1, 2))\n",
    "#y_true_co = dm.y_scaler.inverse_transform(np.array(y_true_co_norm).reshape(-1, 2))\n",
    "#y_pred_nox = dm.y_scaler.inverse_transform(np.array(y_pred_nox_norm).reshape(-1, 2))\n",
    "y_true = dm.y_scaler.inverse_transform(np.array(y_true_norm).reshape(-1, 2))\n",
    "\n",
    "RMSE_co = mean_squared_error(y_pred[:, 0], y_true[:, 0]) ** (1/2)\n",
    "RMSE_nox = mean_squared_error(y_pred[:, 1], y_true[:, 1]) ** (1/2)\n",
    "\n",
    "print(RMSE_co)\n",
    "print(RMSE_nox)"
   ]
  },
  {
   "cell_type": "code",
   "execution_count": 118,
   "metadata": {},
   "outputs": [
    {
     "data": {
      "text/plain": [
       "array([[ 3.30366114, 74.70419299],\n",
       "       [ 5.74461426, 79.08203404],\n",
       "       [ 2.0038081 , 69.27993701],\n",
       "       [ 1.88852562, 76.40229928],\n",
       "       [ 2.17669011, 79.25533837],\n",
       "       [ 2.01845559, 65.64676323],\n",
       "       [ 1.96767741, 76.15548893],\n",
       "       [ 1.77727024, 70.84458678],\n",
       "       [ 1.97775478, 70.53243517],\n",
       "       [ 1.16181134, 68.23876119],\n",
       "       [ 2.44727247, 74.02327746],\n",
       "       [ 4.89009923, 79.77150315],\n",
       "       [ 1.64822493, 68.34279633],\n",
       "       [ 1.76167767, 73.99008417],\n",
       "       [ 1.63249113, 69.52960625],\n",
       "       [ 1.71939078, 69.73196875],\n",
       "       [ 5.38803373, 72.45788255],\n",
       "       [ 4.50690722, 62.35763191],\n",
       "       [ 2.1894132 , 64.88901535],\n",
       "       [ 1.33134186, 69.26169406],\n",
       "       [ 1.12879694, 66.57148295],\n",
       "       [ 1.11517418, 65.37472403],\n",
       "       [ 2.43470912, 55.15084605],\n",
       "       [ 2.86646521, 59.37936348],\n",
       "       [ 1.23993655, 60.02819158],\n",
       "       [ 3.2632344 , 60.11023994],\n",
       "       [ 2.37020726, 55.08188578],\n",
       "       [ 2.24446303, 59.75565936],\n",
       "       [ 1.22437348, 65.96731177],\n",
       "       [ 2.88367668, 58.94169982],\n",
       "       [ 2.60112404, 56.28875159],\n",
       "       [ 2.82477047, 52.98312223],\n",
       "       [ 2.34616365, 57.68448865],\n",
       "       [ 2.89720924, 50.89111116],\n",
       "       [ 2.79873947, 51.22791185],\n",
       "       [ 2.43026491, 56.48145341],\n",
       "       [ 1.34790744, 56.4043265 ],\n",
       "       [ 3.15989248, 58.74320159],\n",
       "       [ 3.1024815 , 50.12214865],\n",
       "       [ 1.32502403, 66.22764083],\n",
       "       [ 1.37837385, 58.71855313],\n",
       "       [ 1.32474304, 63.85861918],\n",
       "       [ 1.39766146, 63.7551638 ],\n",
       "       [ 3.38043027, 57.85225119],\n",
       "       [ 4.01286409, 70.1205976 ],\n",
       "       [ 3.24127363, 58.93641141],\n",
       "       [ 3.59317804, 58.49085195],\n",
       "       [ 2.77034139, 61.85865415],\n",
       "       [ 1.44912223, 63.27389354],\n",
       "       [ 2.84237936, 83.24566766],\n",
       "       [ 1.24404771, 69.23535748],\n",
       "       [ 5.88646439, 77.86344749],\n",
       "       [ 1.0969567 , 67.26959736],\n",
       "       [ 2.7938742 , 82.70163045],\n",
       "       [ 1.28193698, 69.32567109],\n",
       "       [ 1.2844918 , 69.68743664],\n",
       "       [ 1.43298453, 71.34816459],\n",
       "       [ 1.31509211, 70.02805667]])"
      ]
     },
     "execution_count": 118,
     "metadata": {},
     "output_type": "execute_result"
    }
   ],
   "source": [
    "y_pred"
   ]
  },
  {
   "cell_type": "code",
   "execution_count": 117,
   "metadata": {},
   "outputs": [
    {
     "data": {
      "text/plain": [
       "array([[ 3.30366114, 74.70419299],\n",
       "       [ 5.74461426, 79.08203404],\n",
       "       [ 2.0038081 , 69.27993701],\n",
       "       [ 1.88852562, 76.40229928],\n",
       "       [ 2.17669011, 79.25533837],\n",
       "       [ 2.01845559, 65.64676323],\n",
       "       [ 1.96767741, 76.15548893],\n",
       "       [ 1.77727024, 70.84458678],\n",
       "       [ 1.97775478, 70.53243517],\n",
       "       [ 1.16181134, 68.23876119],\n",
       "       [ 2.44727247, 74.02327746],\n",
       "       [ 4.89009923, 79.77150315],\n",
       "       [ 1.64822493, 68.34279633],\n",
       "       [ 1.76167767, 73.99008417],\n",
       "       [ 1.63249113, 69.52960625],\n",
       "       [ 1.71939078, 69.73196875],\n",
       "       [ 5.38803373, 72.45788255],\n",
       "       [ 4.50690722, 62.35763191],\n",
       "       [ 2.1894132 , 64.88901535],\n",
       "       [ 1.33134186, 69.26169406],\n",
       "       [ 1.12879694, 66.57148295],\n",
       "       [ 1.11517418, 65.37472403],\n",
       "       [ 2.43470912, 55.15084605],\n",
       "       [ 2.86646521, 59.37936348],\n",
       "       [ 1.23993655, 60.02819158],\n",
       "       [ 3.2632344 , 60.11023994],\n",
       "       [ 2.37020726, 55.08188578],\n",
       "       [ 2.24446303, 59.75565936],\n",
       "       [ 1.22437348, 65.96731177],\n",
       "       [ 2.88367668, 58.94169982],\n",
       "       [ 2.60112404, 56.28875159],\n",
       "       [ 2.82477047, 52.98312223],\n",
       "       [ 2.34616365, 57.68448865],\n",
       "       [ 2.89720924, 50.89111116],\n",
       "       [ 2.79873947, 51.22791185],\n",
       "       [ 2.43026491, 56.48145341],\n",
       "       [ 1.34790744, 56.4043265 ],\n",
       "       [ 3.15989248, 58.74320159],\n",
       "       [ 3.1024815 , 50.12214865],\n",
       "       [ 1.32502403, 66.22764083],\n",
       "       [ 1.37837385, 58.71855313],\n",
       "       [ 1.32474304, 63.85861918],\n",
       "       [ 1.39766146, 63.7551638 ],\n",
       "       [ 3.38043027, 57.85225119],\n",
       "       [ 4.01286409, 70.1205976 ],\n",
       "       [ 3.24127363, 58.93641141],\n",
       "       [ 3.59317804, 58.49085195],\n",
       "       [ 2.77034139, 61.85865415],\n",
       "       [ 1.44912223, 63.27389354],\n",
       "       [ 2.84237936, 83.24566766],\n",
       "       [ 1.24404771, 69.23535748],\n",
       "       [ 5.88646439, 77.86344749],\n",
       "       [ 1.0969567 , 67.26959736],\n",
       "       [ 2.7938742 , 82.70163045],\n",
       "       [ 1.28193698, 69.32567109],\n",
       "       [ 1.2844918 , 69.68743664],\n",
       "       [ 1.43298453, 71.34816459],\n",
       "       [ 1.31509211, 70.02805667]])"
      ]
     },
     "execution_count": 117,
     "metadata": {},
     "output_type": "execute_result"
    }
   ],
   "source": [
    "y_true"
   ]
  },
  {
   "cell_type": "code",
   "execution_count": 83,
   "metadata": {},
   "outputs": [
    {
     "name": "stdout",
     "output_type": "stream",
     "text": [
      "29\n",
      "29\n",
      "29\n",
      "29\n"
     ]
    }
   ],
   "source": [
    "print(len(y_pred_co))\n",
    "print(len(y_true_co))\n",
    "print(len(y_pred_nox))\n",
    "print(len(y_true_nox))"
   ]
  },
  {
   "cell_type": "markdown",
   "metadata": {},
   "source": [
    "### Conclusão"
   ]
  },
  {
   "cell_type": "markdown",
   "metadata": {},
   "source": []
  },
  {
   "cell_type": "markdown",
   "metadata": {},
   "source": [
    "### Referências"
   ]
  },
  {
   "cell_type": "markdown",
   "metadata": {},
   "source": [
    "[1] Gas Turbine CO and NOx Emission Data Set. 2019. UCI Machine Learning Repository. https://doi.org/10.24432/C5WC95.\n",
    "\n",
    "[2] Material sobre LSTM. 2022. Data Science Academy. https://www.deeplearningbook.com.br/arquitetura-de-redes-neurais-long-short-term-memory/\n",
    "\n",
    "[3] ROJAS, Matías Gabriel *et al*. 2022. \"Optimising Multilayer Perceptron Weights and Biases Through a Cellular Genetic Algorithm for Medical Data Classification.\" Array 14: 100173. https://doi.org/10.1016/j.array.2022.100173.\n",
    "\n",
    "[4] KARPATHY, Andrej. \"The spelled-out intro to neural networks and backpropagation: building micrograd\". YouTube. https://youtu.be/VMj-3S1tku0.\n",
    "\n",
    "[5] GAWDE, Rishikesh. Image Caption Generation Methodologies - Scientific Figure on ResearchGate. Disponível em: https://www.researchgate.net/figure/Fig-3-RNN-A-recurrent-neural-network-RNN-is-a-class-of-artificial-neural-networks_fig1_351840108.\n",
    "\n",
    "[6] STARMER, Josh. \"Recurrent Neural Networks (RNNs), Clearly Explained!!!\". Youtube. https://www.youtube.com/watch?v=AsNTP8Kwu80\n",
    "\n",
    "[7] RASCHKA, Sebastian. 2017. Python Machine Learning: Machine Learning and Deep Learning with Python, scikit-learn, and TensorFlow. 2nd ed. Birmingham, UK: Packt Publishing, 583\n",
    "\n",
    "[8] STARMER, Josh. \"Long Short-Term Memory (LSTM), Clearly Explained\". Youtube. http://www.youtube.com/watch?v=YCzL96nL7j0\n",
    "\n",
    "[9] Biblioteca *OS*. https://docs.python.org/3/library/os.html\n",
    "\n",
    "[10] Biblioteca *Numpy*. https://numpy.org/doc/stable/index.html\n",
    "\n",
    "[11] Biblioteca *Pandas*. https://pandas.pydata.org/docs/#module-pandas\n",
    "\n",
    "[12] Biblioteca *Seaborn*. https://seaborn.pydata.org/index.html\n",
    "\n",
    "[13] Biblioteca *Scikit learn*. **Standard Scaler.** https://scikit-learn.org/stable/modules/generated/sklearn.preprocessing.StandardScaler.html\n",
    "\n",
    "[14] Biblioteca *Scikit learn*. **Mean Squared Error.** https://scikit-learn.org/stable/modules/generated/sklearn.metrics.mean_squared_error.html\n",
    "\n",
    "[15] Biblioteca *Torch*. https://pytorch.org/docs/stable/index.html\n",
    "\n",
    "[16] Biblioteca *Lightning*. https://lightning.ai/docs/pytorch/stable/common/lightning_module.html#\n",
    "\n",
    "[17]\n",
    "\n",
    "[]"
   ]
  }
 ],
 "metadata": {
  "kernelspec": {
   "display_name": "ilumpy",
   "language": "python",
   "name": "ilumpy"
  }
 },
 "nbformat": 4,
 "nbformat_minor": 2
}
