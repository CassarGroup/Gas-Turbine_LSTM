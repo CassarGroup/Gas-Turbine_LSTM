{
 "cells": [
  {
   "cell_type": "markdown",
   "metadata": {},
   "source": [
    "# Projeto de Férias - Aprendizado de Máquina\n",
    "-----------------------"
   ]
  },
  {
   "cell_type": "markdown",
   "metadata": {},
   "source": [
    "# Predição de emissão de gases em um dataset sobre turbinas \n",
    "\n",
    "**Aluno:** Enzo J. Xavier - RM 24035\n",
    "\n",
    "**Orientador:** Dr. Daniel Roberto Cassar"
   ]
  },
  {
   "cell_type": "markdown",
   "metadata": {},
   "source": [
    "## Introdução:"
   ]
  },
  {
   "cell_type": "markdown",
   "metadata": {},
   "source": [
    "Após todo o procedimento de pré-processamento dos dados, retirados de uma turbina à gás [1] e discutido no arquivo anterior [Introdução](https://github.com/CassarGroup/Enzo-Januzzi---Redes-Neurais/blob/main/Projeto/Introdução.ipynb), chegou a etapa de desenvolver e treinar um modelo de Aprendizado de Máquina para prever de fato essas emissões. Escolheu-se um modelo de Redes Neurais Recorrentes (RNN, *Recurrent Neural Network* em inglês) do tipo **LSTM** (*Long-Short Term Memory*, ou Memória de Curto e Longo Prazo), cuja arquitetura permite classificar, processar e prever séries temporais [2]. A fim de entender melhor esse algoritmo, será explicado um modelo base, mais simples e com parâmetros parecidos - as Redes Neurais, mais especificamente um Perceptron Multicamadas(MLP, *Multilayer Perceptron* do inglês)."
   ]
  },
  {
   "cell_type": "markdown",
   "metadata": {},
   "source": [
    "A métrica de erro usada é a Raiz do Erro Quadrático Médio **RMSE**, a qual calcula a raiz da média de diferença entre o valor predito com o real, penalizando grandes diferenças entre os valores (os chamados *outliers*). \n",
    "\n",
    "$$RMSE(y,ŷ) = \\sqrt{\\frac{1}{n} \\sum_{i=1}^{n} (y_i - ŷ_i)^2}\n",
    "\\tag{0}$$\n",
    "\n",
    "Em que $y$ é o valor real, $ŷ$ é o valor predito e $n$ é o número de exemplos"
   ]
  },
  {
   "cell_type": "markdown",
   "metadata": {},
   "source": [
    "### MLP:"
   ]
  },
  {
   "cell_type": "markdown",
   "metadata": {},
   "source": [
    "Uma MLP simula uma rede neural humana por ser dividida em 3 tipos (camada de entrada, camada oculta e camada de sáida), as quais são conectadas por sinapes e a informação passa por cada unidade, chamada de \"neurônio\". A transmissão dos dados considera 2 parâmetros próprios de cada neurônio: o **peso** (*weight*, em tradução livre), que representa a relevância da informação, e o **viés** (em inglês *bias*), sendo um valor intrínseco indicativo se os dados serão passados adiante na rede."
   ]
  },
  {
   "cell_type": "markdown",
   "metadata": {},
   "source": [
    "![](https://ars.els-cdn.com/content/image/1-s2.0-S2590005622000339-gr1_lrg.jpg)"
   ]
  },
  {
   "cell_type": "markdown",
   "metadata": {},
   "source": [
    "**Figura 1:** Esquema de uma MLP simples, com 3 camadas totais. Os números ilustram a posição dos neurônios, sendo que o termo $\\omega$ indica o peso passado para as camadas seguintes e o termo $\\beta$ representa o viés adicionado à cada neurônio. Imagem de M.G. Rojas *et al* [3]."
   ]
  },
  {
   "cell_type": "markdown",
   "metadata": {},
   "source": [
    "Esse modelo também possui uma **função de ativação**, responsável por modificar o resultado das operações matemáticas aplicadas aos dados, garantindo uma padronização dos valores de saída, ou outputs. Dentre as funções usadas estão a sigmoide ($\\sigma$), a qual converte os resultados em um intervalo entre 0 e 1, e a tangente hiperpólica (tanh), cujo intervalo varia entre -1 e 1. Abaixo estão as principais fórmulas por trás do algoritmo:"
   ]
  },
  {
   "cell_type": "markdown",
   "metadata": {},
   "source": [
    "$$\\sigma(x) = \\frac{1}{1 + e^{-x}} \\tag{1}$$ \n",
    "\n",
    "$$tanh(x) = \\frac{e^x - e^{-x}}{e^x + e^{-x}} \\tag{2}$$ \n",
    "\n",
    "$$y = f((\\sum_{i=1}^{n} w_i \\cdot x_i) + b) \\tag{3}$$"
   ]
  },
  {
   "cell_type": "markdown",
   "metadata": {},
   "source": [
    "Em que $e$ é o número de Euler, $w_i$ é o peso na posição *i*, $x_i$ é o input na posição *i*, $b$ é o viés somado e $y$ é o output passado à próxima camada ou o dado de saída."
   ]
  },
  {
   "cell_type": "markdown",
   "metadata": {},
   "source": [
    "Ao fornecer os atributos do problema como os dados de entrada, o modelo aleatoriza o valor de todos os seus parâmetros (i.e, $w$ e $b$), calculando um valor de saída que deve ser aproximado ao valor real predito (target). O output final do modelo chama-se **função perda**, o qual mede a ácurácia do algoritmo e deve ser minimizado, indicando estar próximo da previsão. Para isso, ele usa a **backpropagation** (retro-propagação, em português), que consiste em calcular os gradientes da função perda com respeito à cada parâmetro do sistema, cujo passo a passo (ou **step**) envolve mudar ligeiramente os pesos e viéses e recalcular o output, visando reduzir seu valor."
   ]
  },
  {
   "cell_type": "markdown",
   "metadata": {},
   "source": [
    "A introdução teórica teve como base o excelente vídeo de Andrej Karpathy, que ensina os fundamentos de uma rede neural criando do zero a biblioteca *Micrograd*. [4]"
   ]
  },
  {
   "cell_type": "markdown",
   "metadata": {},
   "source": [
    "### RNN:"
   ]
  },
  {
   "cell_type": "markdown",
   "metadata": {},
   "source": [
    "A vantagem das redes recorrentes em relação à rede anterior é que elas permitem lidar com dados dependentes do tempo, cuja ordem dos exemplos importa na implementação do modelo. Em linhas gerais, a mudança consiste em \"desenrolar\" a rede neural duplicando a arquitetura para o número de exemplos dados, sendo que o peso de um dado no instante $t$ é passado como informação em conjunto com o dado sequencial em $t + 1$."
   ]
  },
  {
   "cell_type": "markdown",
   "metadata": {},
   "source": [
    "![](https://www.researchgate.net/profile/Rishikesh-Gawde/publication/351840108/figure/fig1/AS:1027303769374723@1621939713840/Fig-3-RNN-A-recurrent-neural-network-RNN-is-a-class-of-artificial-neural-networks.ppm)"
   ]
  },
  {
   "cell_type": "markdown",
   "metadata": {},
   "source": [
    "**Figura 2:** RNN Uma rede neuronal recorrente (RNN) é uma classe de redes neuronais artificiais em que as ligações entre os nós formam um grafo dirigido ao longo de uma sequência temporal. Isto permite-lhe apresentar um comportamento dinâmico temporal. Derivadas das redes neuronais *feed forward*, as RNN podem utilizar o seu estado interno (memória) para processar sequências de entradas de comprimento variável. Ilustração e legenda feitos por Rishikesh Gawde [5]"
   ]
  },
  {
   "cell_type": "markdown",
   "metadata": {},
   "source": [
    "Pela imagem, percebe-se que cada entrada possui uma dependência temporal, compartilhando os mesmos pesos: $W_xh$ é o peso entre o input $X$ e a célula oculta $h$, $W_hy$ é passando da função de ativação da célula oculta para o dado de saída $Y$, e $W_hh$ é o peso distribuído entre as camadas ocultas consecutivas. O modelo estima os outputs pelo mesmo processo de *backpropagation*, no entanto, uma limitação das RNN padrão é o chamado **Vanishing Exploding Gradient Problem**, ou Problema do Gradiente Explodindo e Desaparecendo.\n",
    "\n",
    "- Caso o módulo do peso $W_hh$ seja maior que 1, quanto mais exemplos iniciais $n$, mais o output final é multiplicado $n$ vezes. Ao tornar o valor do gradiente extremamente maior, isso prejudica minimizar a função perda \n",
    "\n",
    "- Caso o módulo do peso $W_hh$ seja menor que 1, quanto mais exemplos iniciais, mais o output final é multiplicado por um número próximo de 0, tornando o valor do gradiente extremamente menor. Isso dificulta para a resposta convergir, resultando em um mínimo local sub-ótimo"
   ]
  },
  {
   "cell_type": "markdown",
   "metadata": {},
   "source": [
    "O funcionamento do algoritmo é bem explicado pelo vídeo do *Statquest*, no qual há boas ilustrações e uma visão geral das RNNs [6] "
   ]
  },
  {
   "cell_type": "markdown",
   "metadata": {},
   "source": [
    "### LSTM:"
   ]
  },
  {
   "cell_type": "markdown",
   "metadata": {},
   "source": [
    "A alternativa ao problema mencionado pode ser uma rede neural recorrente com memória de longo e curto prazo. Esse modelo é mais complexo, contendo 2 unidades de memória - **Cell State**, ou Estado de Célula, e **Hidden State**, ou Estado Oculto -, 2 funções de ativação - Sigmoide e *Tanh* - e dividido em 3 partes: **Forget Gate** (Portão do Esquecimento, em português), **Input Gate** (Portão de Entrada, em português), e **Output Gate** (Portão de Saída, em português). "
   ]
  },
  {
   "cell_type": "markdown",
   "metadata": {},
   "source": [
    "![](https://www.mdpi.com/energies/energies-10-01168/article_deploy/html/images/energies-10-01168-g008.png)"
   ]
  },
  {
   "cell_type": "markdown",
   "metadata": {},
   "source": [
    "**Figura 3:** Arquitetura de um bloco de memória LSTM, retirada de um artigo [7]. Seu funcionamento é explicado abaixo."
   ]
  },
  {
   "cell_type": "markdown",
   "metadata": {},
   "source": [
    "#### Forget Gate:"
   ]
  },
  {
   "cell_type": "markdown",
   "metadata": {},
   "source": [
    "No caminho *Forget Gate* ($f_t$), a informação do input $X_t$ passa em conjunto com a da memória de curto prazo $h_{t-1}$ (*h* de *hidden state*), com ambos contendo seus respectivos pesos e o mesmo viés. A função sigmoide $\\sigma$ é aplicada ao resultado e multiplicada com a memória de longo prazo $C_t-1$, indicando a porcentagem desta a ser lembrada.\n",
    "\n",
    "\n",
    "$$ f_t = \\sigma(W_{xf} \\cdot x^{(t)} + W_{hf} \\cdot h^{(t-1)} + b_f) \n",
    "\\tag{4} $$\n",
    "\n",
    "\n",
    "As fórmulas mencionadas são exploradas no livro de Sebastian Raschka [8]. $W_{xf}$ é o peso correspondente ao dado de entrada, $W_{hf}$ é o peso relativo ao estado oculto e $b_f$ é o viés."
   ]
  },
  {
   "cell_type": "markdown",
   "metadata": {},
   "source": [
    "#### Input Gate:"
   ]
  },
  {
   "cell_type": "markdown",
   "metadata": {},
   "source": [
    "No caminho *Input Gate* ($i_t$) ocorre a atualização da memória de longo prazo. Primeiro, é computado o **Valor Candidato** ($\\tilde{C}_t$, ou *Candidate Value*) usando a função *tanh* de modo similar ao cálculo de $f_t$, representando um possível *estado de célula*. Em seguida, calcula-se a porcentagem desse candidato a atualizar a memória de longo prazo de maneira idêntica em (4), somando à memória existente.\n",
    "\n",
    "\n",
    "$$ i_t = \\sigma(W_{xi} \\cdot x^{(t)} + W_{hi} \\cdot h^{(t-1)} + b_i) \n",
    "\\tag{5} $$\n",
    "\n",
    "$$ \\tilde{C}_t = tanh(W_{xc} \\cdot x^{(t)} + W_{hc} \\cdot h^{(t-1)} + b_c) \n",
    "\\tag{6} $$\n",
    "\n",
    "O *Cell State* no instante t é calculado abaixo:\n",
    "$$ C^{(t)} = (C^{(t-1)} \\cdot f_t) + (i_t \\cdot \\tilde{C}_t) \n",
    "\\tag{7} $$\n",
    "\n",
    "Em que $W_{xi}$, $W_{hi}$, $W_{xc}$ e $W_{hc}$ são, respectivamente, os pesos do input para o portão de entrada, do estado oculto para o portão de entrada, do input para o valor candidato e do estado oculto para o valor candidato. $b_i$ e $b_c$ são os vieses no *input gate* e no *candidate value*."
   ]
  },
  {
   "cell_type": "markdown",
   "metadata": {},
   "source": [
    "#### Output Gate:"
   ]
  },
  {
   "cell_type": "markdown",
   "metadata": {},
   "source": [
    "No caminho *Output Gate* ($o_t$), há a modificação da memória de curto prazo, a qual é o dado de saída de toda a unidade do LSTM. O método é parecido com o explicado nos portões prévios: combinam-se o input, o estado oculto e o viés, com seus pesos, aplicando-os à função sigmoide. Por fim, a porcentagem do *hidden state* é multiplicada com a tangente hiperbólica do *cell state* mais recente.\n",
    "\n",
    "\n",
    "$$ o_t = \\sigma(W_{xo} \\cdot x^{(t)} + W_{ho} \\cdot h^{(t-1)} + b_o) \n",
    "\\tag{8} $$\n",
    "\n",
    "$$ h^{(t)} = o_t \\cdot tanh(C^{(t)})\n",
    "\\tag{9} $$\n",
    "\n",
    "\n",
    "$W_{xo}$ é o peso do input, $W_{ho}$ é o do estado oculto e $b_o $ é o viés, assim como nas últimas etapas. O material também foi baseado em outro vídeo do *Statquest* [9]"
   ]
  },
  {
   "cell_type": "markdown",
   "metadata": {},
   "source": [
    "## Importações e definições:"
   ]
  },
  {
   "cell_type": "markdown",
   "metadata": {},
   "source": [
    "Importando as principais bibliotecas usadas neste notebok. A documentação de cada biblioteca se encontra no final do arquivo, na sessão \"Referências\" [10-17]"
   ]
  },
  {
   "cell_type": "code",
   "execution_count": 1,
   "metadata": {},
   "outputs": [],
   "source": [
    "# Geral\n",
    "import os\n",
    "import numpy as np\n",
    "import pandas as pd\n",
    "import seaborn as sns\n",
    "from sklearn.preprocessing import StandardScaler\n",
    "from sklearn.metrics import mean_squared_error\n",
    "\n",
    "# Modelos\n",
    "import torch\n",
    "import torch.nn as nn\n",
    "from torch.nn import functional as F\n",
    "from torch.utils.data import DataLoader, Dataset\n",
    "import torch.optim as optim\n",
    "import lightning as L"
   ]
  },
  {
   "cell_type": "markdown",
   "metadata": {},
   "source": [
    "Criando classes específicas baseadas nas bibliotecas dos modelos *Torch* e *Lightning*. A primeira permite criar datasets com sequências contendo os atributos da turbina e os targets esperados para cada medida, sendo que cada medida representa um **exemplo** ou **batch** do dataset completo, o que agiliza o treinamento ao fazer backpropagation pelos batches, e não com todos os dados. \n",
    "\n",
    "A segunda agrupa todas as etapas relacionadas ao pré-processamento e elaboração dos datasets para cada etapa do treinamento, incluindo o carregamento dos datasets, a normalização dos dados e a definição dos *exemplos*. Essa classe explicita os métodos e funções empregados, organizando melhor os dados."
   ]
  },
  {
   "cell_type": "code",
   "execution_count": 2,
   "metadata": {},
   "outputs": [],
   "source": [
    "class TempDataset(Dataset):\n",
    "    \"\"\"Ajuda a criar um dataset com os batches de treinamento\"\"\"\n",
    "    def __init__(self, sequencias):\n",
    "        self.sequencias = sequencias\n",
    "\n",
    "    def __len__(self):\n",
    "        return len(self.sequencias)\n",
    "\n",
    "    def __getitem__(self, idx):\n",
    "        sequencia, target = self.sequencias[idx]\n",
    "        return torch.FloatTensor(sequencia), torch.FloatTensor(target)"
   ]
  },
  {
   "cell_type": "code",
   "execution_count": 3,
   "metadata": {},
   "outputs": [],
   "source": [
    "class DataModule(L.LightningDataModule):\n",
    "    \"\"\"Módulo padrão para lidar com todas as etapas do dataset, incluindo o \n",
    "    pré-processamento dos dados e a divisão dos datasets\"\"\"\n",
    "\n",
    "    def __init__(self):\n",
    "        # Constantes\n",
    "        super().__init__()\n",
    "        self.ATRIBUTOS = ['AT','AP','AH','AFDP','GTEP','TIT','TAT','TEY','CDP']  \n",
    "        self.TARGET = ['CO', 'NOX']  \n",
    "        self.TAMANHO_SEQUENCIA = 20\n",
    "        self.TAMANHO_LOTE = 128\n",
    "\n",
    "        # Funções\n",
    "        self.definicoes()\n",
    "        self.pre_processing()\n",
    "\n",
    "        # Dataloaders\n",
    "        #self.train_dataloader()\n",
    "        #self.val_dataloader()  \n",
    "        #self.test_dataloader()  \n",
    "\n",
    "    def definicoes(self):\n",
    "            # Diretório\n",
    "            atual = os.getcwd()\n",
    "            caminho = os.path.dirname(atual)\n",
    "            os.chdir(f'{caminho}\\\\Datasets')\n",
    "\n",
    "            # Carregar datasets\n",
    "            df_2011 = pd.read_csv('gt_2011.csv')\n",
    "            df_2012 = pd.read_csv('gt_2012.csv')\n",
    "            df_2013 = pd.read_csv('gt_2013.csv')\n",
    "            df_2014 = pd.read_csv('gt_2014.csv')\n",
    "            df_2015 = pd.read_csv('gt_2015.csv')\n",
    "\n",
    "            # Dividir datasets\n",
    "            self.df_treino = pd.concat([df_2011,df_2012], ignore_index= True)\n",
    "            self.df_val = df_2013\n",
    "            self.df_teste = pd.concat([df_2014,df_2015], ignore_index= True)\n",
    "            self.df_tot = pd.concat([df_2011,df_2012,df_2013,df_2014,df_2015], ignore_index= True)\n",
    "\n",
    "    def pre_processing(self):\n",
    "            # Organizar e normalizar dados\n",
    "            self.X_treino = self.df_treino.reindex(self.ATRIBUTOS, axis=1).values\n",
    "            self.y_treino = self.df_treino.reindex(self.TARGET, axis=1).values\n",
    "\n",
    "            self.x_scaler = StandardScaler()\n",
    "            self.x_scaler.fit(self.X_treino)\n",
    "            self.y_scaler = StandardScaler()  \n",
    "            self.y_scaler.fit(self.y_treino)                                 \n",
    "\n",
    "    def setup(self, stage):\n",
    "        \"\"\"Aqui deve-se alterar o estado da classe para adicionar as informações \n",
    "        referentes aos conjuntos de treino, teste e validação. O argumento `stage` \n",
    "        indica em qual estágio o processo de treino está \n",
    "        (pode ser `fit` para treinamento/validação e `test` para teste).\n",
    "\n",
    "        É nesta etapa onde aplica-setransformações aos dados caso necessário.\"\"\"\n",
    "\n",
    "        def cria_sequencias(data_x, data_y, tamanho_sequencia):\n",
    "            '''Divide o dataset em exemplos (batches) para o treinamento do LSTM'''\n",
    "            sequencias = []\n",
    "\n",
    "            for i in range(len(data_x) - tamanho_sequencia):\n",
    "                sequencia_x = data_x[i : i + tamanho_sequencia]\n",
    "                target_y = data_y[i + tamanho_sequencia]\n",
    "                sequencias.append((sequencia_x, target_y))\n",
    "\n",
    "            return sequencias\n",
    "\n",
    "        # Controlar modo de operação\n",
    "        if stage == \"fit\":\n",
    "            # Treino\n",
    "            self.X_treino_norm = self.x_scaler.transform(self.X_treino)\n",
    "            self.y_treino_norm = self.y_scaler.transform(self.y_treino)\n",
    "            \n",
    "            self.seq_treino = cria_sequencias(self.X_treino_norm, self.y_treino_norm, self.TAMANHO_SEQUENCIA)\n",
    "            self.X_treino_norm = torch.tensor(self.X_treino_norm, dtype=torch.float32)\n",
    "            self.y_treino_norm = torch.tensor(self.y_treino_norm, dtype=torch.float32)\n",
    "\n",
    "            # Validação\n",
    "            self.X_val = self.df_val.reindex(self.ATRIBUTOS, axis=1).values\n",
    "            self.y_val = self.df_val.reindex(self.TARGET, axis=1).values\n",
    "            self.X_val_norm = self.x_scaler.transform(self.X_val)\n",
    "            self.y_val_norm = self.y_scaler.transform(self.y_val)\n",
    "            \n",
    "            self.seq_val = cria_sequencias(self.X_val_norm, self.y_val_norm, self.TAMANHO_SEQUENCIA)\n",
    "            self.X_val_norm = torch.tensor(self.X_val_norm, dtype=torch.float32)\n",
    "            self.y_val_norm = torch.tensor(self.y_val_norm, dtype=torch.float32)\n",
    "        if stage == \"test\":\n",
    "            # Teste\n",
    "            self.X_teste = self.df_teste.reindex(self.ATRIBUTOS, axis=1).values\n",
    "            self.y_teste = self.df_teste.reindex(self.TARGET, axis=1).values\n",
    "            self.X_teste_norm = self.x_scaler.transform(self.X_teste)\n",
    "            self.y_teste_norm = self.y_scaler.transform(self.y_teste)\n",
    "\n",
    "            self.seq_teste = cria_sequencias(self.X_teste_norm, self.y_teste_norm, self.TAMANHO_SEQUENCIA)\n",
    "            self.X_teste_norm = torch.tensor(self.X_teste_norm, dtype=torch.float32)\n",
    "            self.y_teste_norm = torch.tensor(self.y_teste_norm, dtype=torch.float32)\n",
    "\n",
    "    def train_dataloader(self):\n",
    "        self.dataset_treino = TempDataset(self.seq_treino)\n",
    "        self.dataloader_treino = DataLoader(\n",
    "            self.dataset_treino, batch_size=self.TAMANHO_LOTE, shuffle=False)\n",
    "        return self.dataloader_treino\n",
    "\n",
    "    def val_dataloader(self):\n",
    "        self.dataset_val = TempDataset(self.seq_val)\n",
    "        self.dataloader_val = DataLoader(\n",
    "            self.dataset_val, batch_size=self.TAMANHO_LOTE, shuffle=False)\n",
    "        return self.dataloader_val\n",
    "\n",
    "    def test_dataloader(self):\n",
    "        self.dataset_teste = TempDataset(self.seq_teste)\n",
    "        self.dataloader_teste = DataLoader(\n",
    "            self.dataset_teste, batch_size=self.TAMANHO_LOTE, shuffle=False)\n",
    "        return self.dataloader_teste"
   ]
  },
  {
   "cell_type": "markdown",
   "metadata": {},
   "source": [
    "## Treinamento do modelo:"
   ]
  },
  {
   "cell_type": "markdown",
   "metadata": {},
   "source": [
    "Criando a classe principal, em que se define o modelo, transformação, tipo de função perda, otimizador, passos de cada etapa e a curva de aprendizado característica. A transformação padrão é a linear, a função perda será o erro quadrático médio (MSE), o **otimizador** é o *Adam* e ajuda a melhorar a etapa do *step*, e a **curva de aprendizado** é um gráfico que permite visualizar a perda ao longo do tempo, comparando os dados de teste e de validação.\n",
    "\n",
    "* Nota: Algumas funções foram baseadas ou adaptadas de materiais feitos pelo Daniel Cassar [18-22], bem como de conversas com o Gemini [23]."
   ]
  },
  {
   "cell_type": "code",
   "execution_count": 4,
   "metadata": {},
   "outputs": [],
   "source": [
    "class TimeSeriesModel(L.LightningModule):\n",
    "    \"\"\"Modelo LSTM adaptado, contendo a propagação, os steps e as épocas\"\"\"\n",
    "    def __init__(self, num_inputs, num_hidden, num_outputs):\n",
    "        super().__init__()\n",
    "\n",
    "        self.lstm = torch.nn.LSTM(num_inputs, num_hidden, batch_first=True)\n",
    "        self.fc = torch.nn.Linear(num_hidden, num_outputs) \n",
    "        self.loss = F.mse_loss\n",
    "\n",
    "        # Curva de aprendizado\n",
    "        self.perdas_treino = []\n",
    "        self.perdas_val = []\n",
    "\n",
    "        self.curva_aprendizado_treino = []\n",
    "        self.curva_aprendizado_val = []\n",
    "\n",
    "    def forward(self, x):\n",
    "        _, (hidden, _) = self.lstm(x)\n",
    "        return self.fc(hidden[-1])\n",
    "\n",
    "    def configure_optimizers(self):\n",
    "        optimizer = optim.Adam(self.parameters(), lr=0.01)\n",
    "        return optimizer\n",
    "\n",
    "    def training_step(self, batch, batch_idx):\n",
    "        x, y = batch\n",
    "        y_pred = self(x)\n",
    "        loss = self.loss(y, y_pred)\n",
    "\n",
    "        self.log(\"train_loss\", loss, prog_bar=True)\n",
    "        self.perdas_treino.append(loss)\n",
    "\n",
    "        return loss\n",
    "\n",
    "    def validation_step(self, batch, batch_idx):\n",
    "        x, y = batch\n",
    "        y_pred = self(x)\n",
    "        loss = self.loss(y, y_pred)\n",
    "\n",
    "        self.log(\"val_loss\", loss, prog_bar=True)\n",
    "        self.perdas_val.append(loss)\n",
    "\n",
    "        return loss\n",
    "\n",
    "    def test_step(self, batch, batch_idx):\n",
    "        x, y = batch\n",
    "        y_pred = self(x)\n",
    "        loss = self.loss(y, y_pred)\n",
    "\n",
    "        self.log(\"test_loss\", loss)\n",
    "\n",
    "        return loss\n",
    "\n",
    "    def on_train_epoch_end(self):\n",
    "        # Atualiza curva de aprendizado treino\n",
    "        perda_media = torch.stack(self.perdas_treino).mean()\n",
    "        self.curva_aprendizado_treino.append(float(perda_media))\n",
    "        self.perdas_treino.clear()\n",
    "\n",
    "    def on_validation_epoch_end(self):\n",
    "        # Atualiza curva de aprendizado validação\n",
    "        perda_media = torch.stack(self.perdas_val).mean()\n",
    "        self.curva_aprendizado_val.append(float(perda_media))\n",
    "        self.perdas_val.clear()"
   ]
  },
  {
   "cell_type": "markdown",
   "metadata": {},
   "source": [
    "Definindo uma instância de treinamento contendo o número de épocas desejado para ajustar a rede neural ao dataset. **Época** é o número de vezes que ocorre o laço do *step*, em que calcula-se os gradientes e faz-se o *backpropagation*, ajustando os parâmetros. Essa instância também indica qual unidade de processamento está disponível para usar além do CPU, caso haja."
   ]
  },
  {
   "cell_type": "code",
   "execution_count": 5,
   "metadata": {},
   "outputs": [
    {
     "name": "stderr",
     "output_type": "stream",
     "text": [
      "GPU available: False, used: False\n",
      "TPU available: False, using: 0 TPU cores\n",
      "IPU available: False, using: 0 IPUs\n",
      "HPU available: False, using: 0 HPUs\n"
     ]
    }
   ],
   "source": [
    "NUM_EPOCAS = 20\n",
    "treinador = L.Trainer(max_epochs=NUM_EPOCAS)"
   ]
  },
  {
   "cell_type": "markdown",
   "metadata": {},
   "source": [
    "Relembrando os atributos e alvos do problema, bem como instanciando a classe *DataModule*:"
   ]
  },
  {
   "cell_type": "code",
   "execution_count": 6,
   "metadata": {},
   "outputs": [],
   "source": [
    "ATRIBUTOS = ['AT','AP','AH','AFDP','GTEP','TIT','TAT','TEY','CDP']\n",
    "TARGET = ['CO', 'NOX']\n",
    "\n",
    "dm = DataModule()"
   ]
  },
  {
   "cell_type": "markdown",
   "metadata": {},
   "source": [
    "Instanciando o modelo com o número de inputs, outputs e com 3 camadas ocultas:"
   ]
  },
  {
   "cell_type": "code",
   "execution_count": 7,
   "metadata": {},
   "outputs": [],
   "source": [
    "num_inputs = len(ATRIBUTOS)\n",
    "num_hidden = 3\n",
    "num_outputs = len(TARGET)\n",
    "\n",
    "modelo = TimeSeriesModel(\n",
    "    num_inputs, num_hidden, num_outputs\n",
    ")"
   ]
  },
  {
   "cell_type": "markdown",
   "metadata": {},
   "source": [
    "Ajustando o modelo aos dados. Para isso, define-se o modo \"fit\" no método *setup* e aplica-se o método *fit* do treinador, indicando que a rede está na etapa de treinamento."
   ]
  },
  {
   "cell_type": "code",
   "execution_count": 8,
   "metadata": {},
   "outputs": [
    {
     "name": "stderr",
     "output_type": "stream",
     "text": [
      "\n",
      "  | Name | Type   | Params\n",
      "--------------------------------\n",
      "0 | lstm | LSTM   | 168   \n",
      "1 | fc   | Linear | 8     \n",
      "--------------------------------\n",
      "176       Trainable params\n",
      "0         Non-trainable params\n",
      "176       Total params\n",
      "0.001     Total estimated model params size (MB)\n"
     ]
    },
    {
     "data": {
      "application/vnd.jupyter.widget-view+json": {
       "model_id": "a58f888e5bc44ddda0fa9bc6fc6a9a26",
       "version_major": 2,
       "version_minor": 0
      },
      "text/plain": [
       "Sanity Checking: |          | 0/? [00:00<?, ?it/s]"
      ]
     },
     "metadata": {},
     "output_type": "display_data"
    },
    {
     "name": "stderr",
     "output_type": "stream",
     "text": [
      "c:\\venv\\ilumpy\\Lib\\site-packages\\lightning\\pytorch\\trainer\\connectors\\data_connector.py:441: The 'val_dataloader' does not have many workers which may be a bottleneck. Consider increasing the value of the `num_workers` argument` to `num_workers=11` in the `DataLoader` to improve performance.\n",
      "c:\\venv\\ilumpy\\Lib\\site-packages\\lightning\\pytorch\\trainer\\connectors\\data_connector.py:441: The 'train_dataloader' does not have many workers which may be a bottleneck. Consider increasing the value of the `num_workers` argument` to `num_workers=11` in the `DataLoader` to improve performance.\n"
     ]
    },
    {
     "data": {
      "application/vnd.jupyter.widget-view+json": {
       "model_id": "19ed55e3b41544038c843cb161377eac",
       "version_major": 2,
       "version_minor": 0
      },
      "text/plain": [
       "Training: |          | 0/? [00:00<?, ?it/s]"
      ]
     },
     "metadata": {},
     "output_type": "display_data"
    },
    {
     "data": {
      "application/vnd.jupyter.widget-view+json": {
       "model_id": "8dcd837163154ce08ea59a83e1951495",
       "version_major": 2,
       "version_minor": 0
      },
      "text/plain": [
       "Validation: |          | 0/? [00:00<?, ?it/s]"
      ]
     },
     "metadata": {},
     "output_type": "display_data"
    },
    {
     "data": {
      "application/vnd.jupyter.widget-view+json": {
       "model_id": "51a6aeb65e8d48e8a191e5574f58e004",
       "version_major": 2,
       "version_minor": 0
      },
      "text/plain": [
       "Validation: |          | 0/? [00:00<?, ?it/s]"
      ]
     },
     "metadata": {},
     "output_type": "display_data"
    },
    {
     "data": {
      "application/vnd.jupyter.widget-view+json": {
       "model_id": "b47371cf79b94530bcc323e49706d862",
       "version_major": 2,
       "version_minor": 0
      },
      "text/plain": [
       "Validation: |          | 0/? [00:00<?, ?it/s]"
      ]
     },
     "metadata": {},
     "output_type": "display_data"
    },
    {
     "data": {
      "application/vnd.jupyter.widget-view+json": {
       "model_id": "21db8c60315a4f2494b6f4b60b70ac05",
       "version_major": 2,
       "version_minor": 0
      },
      "text/plain": [
       "Validation: |          | 0/? [00:00<?, ?it/s]"
      ]
     },
     "metadata": {},
     "output_type": "display_data"
    },
    {
     "data": {
      "application/vnd.jupyter.widget-view+json": {
       "model_id": "2fea2ed9e13a45ecb2dcc7b583816b17",
       "version_major": 2,
       "version_minor": 0
      },
      "text/plain": [
       "Validation: |          | 0/? [00:00<?, ?it/s]"
      ]
     },
     "metadata": {},
     "output_type": "display_data"
    },
    {
     "data": {
      "application/vnd.jupyter.widget-view+json": {
       "model_id": "148051a6c51b4ae9ad1940e0bcee48bf",
       "version_major": 2,
       "version_minor": 0
      },
      "text/plain": [
       "Validation: |          | 0/? [00:00<?, ?it/s]"
      ]
     },
     "metadata": {},
     "output_type": "display_data"
    },
    {
     "data": {
      "application/vnd.jupyter.widget-view+json": {
       "model_id": "d44922ce03734b50b6bc10df347964f4",
       "version_major": 2,
       "version_minor": 0
      },
      "text/plain": [
       "Validation: |          | 0/? [00:00<?, ?it/s]"
      ]
     },
     "metadata": {},
     "output_type": "display_data"
    },
    {
     "data": {
      "application/vnd.jupyter.widget-view+json": {
       "model_id": "11f4a848a52c4996b7016df672af20bf",
       "version_major": 2,
       "version_minor": 0
      },
      "text/plain": [
       "Validation: |          | 0/? [00:00<?, ?it/s]"
      ]
     },
     "metadata": {},
     "output_type": "display_data"
    },
    {
     "data": {
      "application/vnd.jupyter.widget-view+json": {
       "model_id": "596eedd195994d9294f1f066a0552697",
       "version_major": 2,
       "version_minor": 0
      },
      "text/plain": [
       "Validation: |          | 0/? [00:00<?, ?it/s]"
      ]
     },
     "metadata": {},
     "output_type": "display_data"
    },
    {
     "data": {
      "application/vnd.jupyter.widget-view+json": {
       "model_id": "bb9e81d174184faf8c47c661cee2a097",
       "version_major": 2,
       "version_minor": 0
      },
      "text/plain": [
       "Validation: |          | 0/? [00:00<?, ?it/s]"
      ]
     },
     "metadata": {},
     "output_type": "display_data"
    },
    {
     "data": {
      "application/vnd.jupyter.widget-view+json": {
       "model_id": "5668bafa744e484bafaf92495dd668c6",
       "version_major": 2,
       "version_minor": 0
      },
      "text/plain": [
       "Validation: |          | 0/? [00:00<?, ?it/s]"
      ]
     },
     "metadata": {},
     "output_type": "display_data"
    },
    {
     "data": {
      "application/vnd.jupyter.widget-view+json": {
       "model_id": "60a5d984ac6540d2aec95d0cd76316e5",
       "version_major": 2,
       "version_minor": 0
      },
      "text/plain": [
       "Validation: |          | 0/? [00:00<?, ?it/s]"
      ]
     },
     "metadata": {},
     "output_type": "display_data"
    },
    {
     "data": {
      "application/vnd.jupyter.widget-view+json": {
       "model_id": "a3cba5071ac349a8b2585bb2c2bf317e",
       "version_major": 2,
       "version_minor": 0
      },
      "text/plain": [
       "Validation: |          | 0/? [00:00<?, ?it/s]"
      ]
     },
     "metadata": {},
     "output_type": "display_data"
    },
    {
     "data": {
      "application/vnd.jupyter.widget-view+json": {
       "model_id": "c1731b5eda5f4057a16eab93f2ef634e",
       "version_major": 2,
       "version_minor": 0
      },
      "text/plain": [
       "Validation: |          | 0/? [00:00<?, ?it/s]"
      ]
     },
     "metadata": {},
     "output_type": "display_data"
    },
    {
     "data": {
      "application/vnd.jupyter.widget-view+json": {
       "model_id": "d5b49017af6b493c9d2a42b536c644d6",
       "version_major": 2,
       "version_minor": 0
      },
      "text/plain": [
       "Validation: |          | 0/? [00:00<?, ?it/s]"
      ]
     },
     "metadata": {},
     "output_type": "display_data"
    },
    {
     "data": {
      "application/vnd.jupyter.widget-view+json": {
       "model_id": "19156746969b4871bb787cf4f490b1a7",
       "version_major": 2,
       "version_minor": 0
      },
      "text/plain": [
       "Validation: |          | 0/? [00:00<?, ?it/s]"
      ]
     },
     "metadata": {},
     "output_type": "display_data"
    },
    {
     "data": {
      "application/vnd.jupyter.widget-view+json": {
       "model_id": "959636bbfa4d4687a95eaa56665c58ad",
       "version_major": 2,
       "version_minor": 0
      },
      "text/plain": [
       "Validation: |          | 0/? [00:00<?, ?it/s]"
      ]
     },
     "metadata": {},
     "output_type": "display_data"
    },
    {
     "data": {
      "application/vnd.jupyter.widget-view+json": {
       "model_id": "32adb2bde250466baaa37b356a55459e",
       "version_major": 2,
       "version_minor": 0
      },
      "text/plain": [
       "Validation: |          | 0/? [00:00<?, ?it/s]"
      ]
     },
     "metadata": {},
     "output_type": "display_data"
    },
    {
     "data": {
      "application/vnd.jupyter.widget-view+json": {
       "model_id": "306d0141e4cb4a93b0e58b6e4fb3397c",
       "version_major": 2,
       "version_minor": 0
      },
      "text/plain": [
       "Validation: |          | 0/? [00:00<?, ?it/s]"
      ]
     },
     "metadata": {},
     "output_type": "display_data"
    },
    {
     "data": {
      "application/vnd.jupyter.widget-view+json": {
       "model_id": "d6bea67d33444f768e1069a11b6896a7",
       "version_major": 2,
       "version_minor": 0
      },
      "text/plain": [
       "Validation: |          | 0/? [00:00<?, ?it/s]"
      ]
     },
     "metadata": {},
     "output_type": "display_data"
    },
    {
     "name": "stderr",
     "output_type": "stream",
     "text": [
      "`Trainer.fit` stopped: `max_epochs=20` reached.\n"
     ]
    }
   ],
   "source": [
    "dm.setup('fit')\n",
    "treinador.fit(modelo, dm)"
   ]
  },
  {
   "cell_type": "markdown",
   "metadata": {},
   "source": [
    "Criando a curva de aprendizado contendo o erro a cada época na etapa de treino e de validação:"
   ]
  },
  {
   "cell_type": "code",
   "execution_count": 9,
   "metadata": {},
   "outputs": [
    {
     "data": {
      "image/png": "[encoded data removed]",
      "text/plain": [
       "<Figure size 640x480 with 1 Axes>"
      ]
     },
     "metadata": {},
     "output_type": "display_data"
    }
   ],
   "source": [
    "ca_treino = modelo.curva_aprendizado_treino\n",
    "ca_val = modelo.curva_aprendizado_val\n",
    "\n",
    "sns.lineplot(ca_treino, label=\"Treino\")\n",
    "eixo = sns.lineplot(ca_val, label=\"Validação\")\n",
    "\n",
    "eixo.set_xlim(left=0)\n",
    "\n",
    "eixo.set_title(\"Curva de aprendizado\")\n",
    "eixo.set_xlabel(\"Época\")\n",
    "eixo.set_ylabel(\"Perda\");"
   ]
  },
  {
   "cell_type": "markdown",
   "metadata": {},
   "source": [
    "É interessante notar que como os parâmetros são aleatorizados inicialmente ao instanciar o modelo, cada vez que houver o treinamento a perda poderá ser diferente. No entanto, para analisar esse gráfico deve-se considerar alguns fatores: a partir de qual época a perda se estabiliza (evitando ter muitas épocas consumindo recursos computacionais), se a curva de validação sobe muito (indicando um possível sobreajuste dos dados), se houve poucas épocas (indicando um possível subajuste dos dados) e se a perda vai diminuindo a cada época."
   ]
  },
  {
   "cell_type": "markdown",
   "metadata": {},
   "source": [
    "Deixando o modelo no modo de teste, através do método *eval*:"
   ]
  },
  {
   "cell_type": "code",
   "execution_count": 10,
   "metadata": {},
   "outputs": [
    {
     "data": {
      "text/plain": [
       "TimeSeriesModel(\n",
       "  (lstm): LSTM(9, 3, batch_first=True)\n",
       "  (fc): Linear(in_features=3, out_features=2, bias=True)\n",
       ")"
      ]
     },
     "execution_count": 10,
     "metadata": {},
     "output_type": "execute_result"
    }
   ],
   "source": [
    "modelo.eval()"
   ]
  },
  {
   "cell_type": "markdown",
   "metadata": {},
   "source": [
    "Deixando o datamodule no modo de teste, além de calcular os targets reais e preditos pelo algoritmo no dataloader de teste. Nessa etapa as contas ficam no ambiente *torch.no_grad*, indicando que não é mais necessário computar os gradientes para os parâmetros do modelo."
   ]
  },
  {
   "cell_type": "code",
   "execution_count": 11,
   "metadata": {},
   "outputs": [],
   "source": [
    "dm.setup('test')\n",
    "dataloader_teste = dm.test_dataloader()\n",
    "i = 0 # index\n",
    "\n",
    "with torch.no_grad():\n",
    "    y_pred_norm = []\n",
    "    y_true_norm = []\n",
    "\n",
    "    for atributo, target in dataloader_teste:\n",
    "        if i <= 57:\n",
    "            previsao = modelo(atributo)\n",
    "\n",
    "            y_pred_co_norm = previsao[i][0].item()\n",
    "            y_pred_nox_norm = previsao[i][1].item()\n",
    "            y_pred_norm.append([y_pred_co_norm, y_pred_nox_norm])\n",
    "\n",
    "            y_true_co_norm = target[i][0].item()\n",
    "            y_true_nox_norm = target[i][1].item()\n",
    "            y_true_norm.append([y_true_co_norm, y_true_nox_norm])\n",
    "\n",
    "            i += 1"
   ]
  },
  {
   "cell_type": "markdown",
   "metadata": {},
   "source": [
    "Por fim, convertendo os alvos na escala original (desnormalizada) e calculando a raiz do erro quadrático médio (RMSE), representando a eficácia do modelo:"
   ]
  },
  {
   "cell_type": "code",
   "execution_count": 20,
   "metadata": {},
   "outputs": [
    {
     "name": "stdout",
     "output_type": "stream",
     "text": [
      "O RMSE para o CO foi de 1.3 mg/m³\n",
      "O RMSE para o NOX foi de 10.73 mg/m³\n"
     ]
    }
   ],
   "source": [
    "y_pred = dm.y_scaler.inverse_transform(np.array(y_pred_norm).reshape(-1, 2))\n",
    "y_true = dm.y_scaler.inverse_transform(np.array(y_true_norm).reshape(-1, 2))\n",
    "\n",
    "RMSE_co = mean_squared_error(y_pred[:, 0], y_true[:, 0]) ** (1/2)\n",
    "RMSE_nox = mean_squared_error(y_pred[:, 1], y_true[:, 1]) ** (1/2)\n",
    "\n",
    "print(f'O RMSE para o CO foi de {round(RMSE_co,2)} mg/m³')\n",
    "print(f'O RMSE para o NOX foi de {round(RMSE_nox,2)} mg/m³')"
   ]
  },
  {
   "cell_type": "markdown",
   "metadata": {},
   "source": [
    "A eficiência da previsão para o CO foi evidentemente maior que a do NOX, o que é justificado pelos gráficos plotados no arquivo [Introdução](https://github.com/CassarGroup/Enzo-Januzzi---Redes-Neurais/blob/main/Projeto/Introdução.ipynb), nos quais a concentração do primeiro gás é mais próxima de valores pequenos, enquanto a do segundo é mais espalhada em valores medianos."
   ]
  },
  {
   "cell_type": "markdown",
   "metadata": {},
   "source": [
    "## Conclusão:"
   ]
  },
  {
   "cell_type": "markdown",
   "metadata": {},
   "source": [
    "Foi possível treinar um modelo complexo de Redes Neurais Recorrentes e fazer previsões sobre as emissões de gases da turbina estudada. Cabe ressaltar que ainda podem ser feitas melhorias não abordadas, como fazer uma regularização L2 no pré-processamento, calcular outras métricas de erro (MAE, R²), comparar as previsões com outros modelos e variar os hiperparâmetros do algoritmo, o que traria um resultado mais abrangente."
   ]
  },
  {
   "cell_type": "markdown",
   "metadata": {},
   "source": [
    "## Referências:"
   ]
  },
  {
   "cell_type": "markdown",
   "metadata": {},
   "source": [
    "[1] Gas Turbine CO and NOx Emission Data Set. 2019. UCI Machine Learning Repository. https://doi.org/10.24432/C5WC95.\n",
    "\n",
    "[2] Material sobre LSTM. 2022. Data Science Academy. https://www.deeplearningbook.com.br/arquitetura-de-redes-neurais-long-short-term-memory/\n",
    "\n",
    "[3] ROJAS, Matías Gabriel *et al*. 2022. \"Optimising Multilayer Perceptron Weights and Biases Through a Cellular Genetic Algorithm for Medical Data Classification.\" Array 14: 100173. https://doi.org/10.1016/j.array.2022.100173.\n",
    "\n",
    "[4] KARPATHY, Andrej. \"The spelled-out intro to neural networks and backpropagation: building micrograd\". YouTube. https://youtu.be/VMj-3S1tku0.\n",
    "\n",
    "[5] GAWDE, Rishikesh. Image Caption Generation Methodologies - Scientific Figure on ResearchGate. Disponível em: https://www.researchgate.net/figure/Fig-3-RNN-A-recurrent-neural-network-RNN-is-a-class-of-artificial-neural-networks_fig1_351840108.\n",
    "\n",
    "[6] STARMER, Josh. \"Recurrent Neural Networks (RNNs), Clearly Explained!!!\". Youtube. https://www.youtube.com/watch?v=AsNTP8Kwu80\n",
    "\n",
    "[7] Zheng, Huiting, Jiabin Yuan, and Long Chen. \"Short-Term Load Forecasting Using EMD-LSTM Neural Networks with a Xgboost Algorithm for Feature Importance Evaluation.\" Energies 10, no. 8 (2017): 1168. https://doi.org/10.3390/en10081168.\n",
    "\n",
    "[8] RASCHKA, Sebastian. 2017. Python Machine Learning: Machine Learning and Deep Learning with Python, scikit-learn, and TensorFlow. 2nd ed. Birmingham, UK: Packt Publishing, 583\n",
    "\n",
    "[9] STARMER, Josh. \"Long Short-Term Memory (LSTM), Clearly Explained\". Youtube. http://www.youtube.com/watch?v=YCzL96nL7j0\n",
    "\n",
    "[10] Biblioteca *OS*. https://docs.python.org/3/library/os.html\n",
    "\n",
    "[11] Biblioteca *Numpy*. https://numpy.org/doc/stable/index.html\n",
    "\n",
    "[12] Biblioteca *Pandas*. https://pandas.pydata.org/docs/#module-pandas\n",
    "\n",
    "[13] Biblioteca *Seaborn*. https://seaborn.pydata.org/index.html\n",
    "\n",
    "[14] Biblioteca *Scikit learn*. **Standard Scaler.** https://scikit-learn.org/stable/modules/generated/sklearn.preprocessing.StandardScaler.html\n",
    "\n",
    "[15] Biblioteca *Scikit learn*. **Mean Squared Error.** https://scikit-learn.org/stable/modules/generated/sklearn.metrics.mean_squared_error.html\n",
    "\n",
    "[16] Biblioteca *Torch*. https://pytorch.org/docs/stable/index.html\n",
    "\n",
    "[17] Biblioteca *Lightning*. https://lightning.ai/docs/pytorch/stable/common/lightning_module.html#\n",
    "\n",
    "[18] CASSAR, Daniel. **\"ATP-303 NN 2.1 - Classes.ipynb\"**. 2024. Material de Aula.\n",
    "\n",
    "[19] CASSAR, Daniel. **\"ATP-303 NN 5.1 - PyTorch\"**. 2024. Material de Aula.\n",
    "\n",
    "[20] CASSAR, Daniel. **\"ATP-303 NN 6.1 - Módulo Lightning\"**. 2024. Material de Aula.\n",
    "\n",
    "[21] CASSAR, Daniel. **\"TAV-603 C.3.1 - Redes neurais recorrentes - classificador binário\"**. 2024. Material de Aula.\n",
    "\n",
    "[22] CASSAR, Daniel. **\"TAV-603 C.3.2 - Redes neurais recorrentes - regressor muitos para um\"**. 2024. Material de Aula.\n",
    "\n",
    "[23] Conversa com Gemini: https://g.co/gemini/share/021eb7aceb10"
   ]
  }
 ],
 "metadata": {
  "kernelspec": {
   "display_name": "ilumpy",
   "language": "python",
   "name": "ilumpy"
  },
  "language_info": {
   "codemirror_mode": {
    "name": "ipython",
    "version": 3
   },
   "file_extension": ".py",
   "mimetype": "text/x-python",
   "name": "python",
   "nbconvert_exporter": "python",
   "pygments_lexer": "ipython3",
   "version": "3.11.6"
  }
 },
 "nbformat": 4,
 "nbformat_minor": 2
}
